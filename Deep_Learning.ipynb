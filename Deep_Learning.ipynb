{
 "cells": [
  {
   "cell_type": "markdown",
   "metadata": {
    "id": "rQxg33mYsnLf"
   },
   "source": [
    "# Intro to Deep Learning and Neural Networks"
   ]
  },
  {
   "cell_type": "markdown",
   "metadata": {
    "id": "hK2KTueasnLh"
   },
   "source": [
    "# What is Deep Learning?\n",
    "\n",
    "- A subfield of machine learning based on artificial neural networks.\n",
    "\n",
    "- The term \"deep\" is derived from having more than 1 hidden layer.\n",
    "    - Though the definition on this can vary this is a good rule of thumb.\n",
    "\n",
    "- These deep structures have been made possible largely due to graphics processing units (GPUs).\n",
    "\n",
    "<img src=https://static.packt-cdn.com/products/9781785880360/graphics/70548a62-8af9-4054-a4ca-571f9d04f26d.png width=700 height=250>"
   ]
  },
  {
   "cell_type": "markdown",
   "metadata": {
    "id": "s_MWoZO2snLi"
   },
   "source": [
    "# What are Neural Networks?\n",
    "\n",
    "- Definition:\n",
    "    - A collection of *artificial neurons* that are composed into *fully connected* layers.\n",
    "    - Mapping inputs (data) to our desired outputs (labels) by learning a set of weights\n",
    "        - $y = f(x;w)$\n",
    "\n",
    "- Artificial neurons:\n",
    "    - Mimics the basic structure biological neural networks\n",
    "    - Mathematically based rather than biologically\n",
    "\n",
    "- Fully connected:\n",
    "    - Every neuron is connected to every other neuron in the next layer\n",
    "\n",
    "<div>\n",
    "    <div>\n",
    "    <p>\n",
    "        <img  src=\"https://live.staticflickr.com/65535/51090481284_1b7e0c4a46_z.jpg\" width=\"640\" height=\"347\" alt=\"bio_vs_art_neuron\" align='left'>\n",
    "        <img  src=\"https://live.staticflickr.com/65535/51090490777_7ded0f0d53_z.jpg\" width=\"602\" height=\"417\" alt=\"neural_network\" align='left'>\n",
    "    </p>\n",
    "</div>"
   ]
  },
  {
   "cell_type": "markdown",
   "metadata": {
    "id": "id8xTocBsnLj"
   },
   "source": [
    "## Feed-forward vs Feed-back\n",
    "### Feed-forward\n",
    " - Inputs are feed through the network until they reach the output layer\n",
    "  - This is how we make predictions\n",
    "\n",
    "### Feed-back (Back-propagation)\n",
    "- The error/loss/cost between our predictions and labels can then be *back-propagated* from the output layer to the input layer.\n",
    "    - The back-propagation uses the idea of gradient decent to *minimize* our loss function.\n",
    "    - We use an algorithm called *back-propagation* to compute the gradient for all parameters in our network.\n",
    "\n",
    "<div>\n",
    "    <p>\n",
    "        <img src=\"https://cdn.analyticsvidhya.com/wp-content/uploads/2020/02/7-Figure1-1-1.png\" width=800 height=500 />\n",
    "    </p>\n",
    "</div>"
   ]
  },
  {
   "cell_type": "markdown",
   "metadata": {
    "id": "gnMQNfH_snLj"
   },
   "source": [
    "# Building a Neural Network Piece-by-piece"
   ]
  },
  {
   "cell_type": "markdown",
   "metadata": {
    "id": "PAIbossYsnLj"
   },
   "source": [
    "## Linear Neural Network\n",
    "\n",
    "Since we know a little about linear regression we can build up to deep networks step-by-step, starting from a linear interpretation of neural networks!\n",
    "\n",
    "<br>\n",
    "<br>\n",
    "<center>\n",
    "    <img src=\"https://live.staticflickr.com/65535/51084555647_8e53f2c222_b.jpg\" width=\"600\" height=\"600\">\n",
    "</center>"
   ]
  },
  {
   "cell_type": "markdown",
   "metadata": {
    "id": "Ay2Qj0KwsnLk"
   },
   "source": [
    "## Affine Neural Network\n",
    "\n",
    "Now, let's make our neural network into an affine model by adding *bias*!\n",
    "\n",
    "- Bias:\n",
    "    - Allows for the line of best fit to not be bound to the passing through the origin.\n",
    "\n",
    "<center>\n",
    "    <img src=\"https://qph.fs.quoracdn.net/main-qimg-c0bb76e8e57e9a33170c45265eadb213\">\n",
    "</center>"
   ]
  },
  {
   "cell_type": "markdown",
   "metadata": {
    "id": "KvxZ9kJFsnLk"
   },
   "source": [
    "## Affine Neural Network\n",
    "<center>\n",
    "    <img src=\"https://live.staticflickr.com/65535/51084457991_ca0f478b25_b.jpg\" height=400, width=400 align=center>\n",
    "</center>"
   ]
  },
  {
   "cell_type": "markdown",
   "metadata": {
    "id": "_KTMZDXPsnLk"
   },
   "source": [
    "## Non-linear Neural Network\n",
    "\n",
    "- How do we make non-linear predictions?\n",
    "    - Map our hidden unit output to a point on non-linear function called an *activation function*\n",
    "    - In other words, we wrap the hidden unit output $z$ in an activation function $g$\n",
    "\n",
    "### Activation Functions: Mathematical  vs Biological\n",
    "- Sigmoid (mathematical)\n",
    "    - Smooth and easy for derivatives to be calculated\n",
    "    - continuous outputs\n",
    "- Step-function (biological)\n",
    "    - Ridged and leads to undefined derivatives\n",
    "    - binary outputs (on/off)\n",
    "<img src=\"https://neuralrepo.files.wordpress.com/2019/07/i2rwe.png\">"
   ]
  },
  {
   "cell_type": "markdown",
   "metadata": {
    "id": "pcYArhUwsnLk"
   },
   "source": [
    "### More Activation Functions\n",
    "\n",
    "<img src=\"https://external-content.duckduckgo.com/iu/?u=https%3A%2F%2Fwww.researchgate.net%2Fprofile%2FVivienne_Sze%2Fpublication%2F315667264%2Ffigure%2Fdownload%2Ffig3%2FAS%3A669951052496900%401536740186369%2FVarious-forms-of-non-linear-activation-functions-Figure-adopted-from-Caffe-Tutorial.png&f=1&nofb=1\">"
   ]
  },
  {
   "cell_type": "markdown",
   "metadata": {
    "id": "iiw9H8q4snLk"
   },
   "source": [
    "## Non-linear Neural Network\n",
    "- However, for regression problems this architecture is actually pretty useless because the the activation function squashes our values!\n",
    "    - What we really need is a non-linear hidden layer and a linear output!\n",
    "<br>\n",
    "<center>\n",
    "<img src=\"https://live.staticflickr.com/65535/51015276905_62380779db_b.jpg\" width=\"400\" height=\"400\" alt=\"nonlinear_networks_veq\">\n",
    "</center>"
   ]
  },
  {
   "cell_type": "markdown",
   "metadata": {
    "id": "8VPmJRz7snLl"
   },
   "source": [
    "## Hidden Layer Non-linear Neural Network\n",
    "<br>\n",
    "<br>\n",
    "\n",
    "<center>\n",
    "    <img src=\"https://live.staticflickr.com/65535/51015276900_c209506a26_b.jpg\" width=\"600\" height=\"600\" alt=\"nonlinear_networks2_veq\">\n",
    "</center>"
   ]
  },
  {
   "cell_type": "markdown",
   "metadata": {
    "id": "zZd-h1dxsnLl"
   },
   "source": [
    "## Shallow Neural Network\n",
    "\n",
    "Now, we simply add more hidden units to achieve a shallow network!\n",
    "\n",
    "Our output $\\hat{y}$ can be seen as a linear combination of non-linear models.\n",
    "\n",
    "<br>\n",
    "\n",
    "<center>\n",
    "    <img src=\"https://live.staticflickr.com/65535/51084461451_34823e31a2_b.jpg\" width=\"700\" height=\"700\" alt=\"shallow_networks_veq\">\n",
    "</center>"
   ]
  },
  {
   "cell_type": "markdown",
   "metadata": {
    "id": "6dicUGMssnLl"
   },
   "source": [
    "##  Deep Neural Network\n",
    "\n",
    "Finally, we stack layers to produce deep neural networks!\n",
    "\n",
    "Essentially, we have many affine functions wrapped in non-linear functions whose outputs are weighted and stacked over and over again.\n",
    "<br>\n",
    "<br>\n",
    "\n",
    "<center>\n",
    "    <img src=\"https://live.staticflickr.com/65535/51084461396_016dbdfa2c_b.jpg\" width=\"700\" height=\"700\" alt=\"deep_networks\">\n",
    "</center>"
   ]
  },
  {
   "cell_type": "markdown",
   "metadata": {
    "id": "aCOKvRtksnLl"
   },
   "source": [
    "# Where does PyTorch come in?\n",
    "\n",
    "- **PyTorch** is a machine learning library for creating neural networks and automatically computing gradients (automatic differentiation).\n",
    "- **Fastai** is a popular library that adds higher-level functionality on top of PyTorch.\n",
    "    - This library is directly geared towards bringing deep learning to people of all backgrounds and disciplines.\n",
    "\n",
    "<center>\n",
    "<img src=\"https://miro.medium.com/max/1200/1*4br4WmxNo0jkcsY796jGDQ.jpeg\" width=600 height=600>\n",
    "\n",
    "<img src=\"https://miro.medium.com/max/1200/1*PQTzNNvBlmjW0Eca-nw14g.png\" width=600 height=600>\n",
    "</center>"
   ]
  },
  {
   "cell_type": "markdown",
   "metadata": {
    "id": "rVhuj-ptsnLl"
   },
   "source": [
    "# Intro to PyTorch, FastAI, and Gradient Descent"
   ]
  },
  {
   "cell_type": "markdown",
   "metadata": {
    "id": "6boUg3r8snLm"
   },
   "source": [
    "## PyTorch Tensors"
   ]
  },
  {
   "cell_type": "code",
   "execution_count": null,
   "metadata": {
    "id": "-EjuMfcZsnLm"
   },
   "outputs": [],
   "source": [
    "import torch\n",
    "# Set PyTorch to use CPU for computations\n",
    "# device = torch.device(\"cpu\")\n",
    "# torch.cuda.is_available = lambda : False\n",
    "# If you have a GPU setup you can use the following code to have\n",
    "# PyTorch run computations on the GPU\n",
    "device = torch.device(\"cuda\" if torch.cuda.is_available() else \"cpu\")"
   ]
  },
  {
   "cell_type": "code",
   "execution_count": null,
   "metadata": {
    "id": "hx5kXepdsnLn",
    "outputId": "18de412a-23be-4644-c65f-58528febe4ff"
   },
   "outputs": [
    {
     "data": {
      "text/plain": [
       "device(type='cuda')"
      ]
     },
     "execution_count": 42,
     "metadata": {},
     "output_type": "execute_result"
    }
   ],
   "source": [
    "device"
   ]
  },
  {
   "cell_type": "code",
   "execution_count": null,
   "metadata": {
    "id": "jGnZVyLAsnLn",
    "outputId": "82e17066-d1f4-444e-e1eb-f60dc98475a2"
   },
   "outputs": [
    {
     "data": {
      "text/plain": [
       "tensor([1, 2, 3, 4, 5])"
      ]
     },
     "execution_count": 43,
     "metadata": {},
     "output_type": "execute_result"
    }
   ],
   "source": [
    "cpu_tensor = torch.tensor([1,2,3,4,5])\n",
    "cpu_tensor"
   ]
  },
  {
   "cell_type": "code",
   "execution_count": null,
   "metadata": {
    "id": "xbcfJkAhsnLo",
    "outputId": "9846fef7-2fdc-45e2-bad0-bc9d593ff45c"
   },
   "outputs": [
    {
     "data": {
      "text/plain": [
       "device(type='cpu')"
      ]
     },
     "execution_count": 44,
     "metadata": {},
     "output_type": "execute_result"
    }
   ],
   "source": [
    "cpu_tensor.device"
   ]
  },
  {
   "cell_type": "code",
   "execution_count": null,
   "metadata": {
    "id": "rR-rtQECsnLo",
    "outputId": "35edfadb-5f84-4fbf-aa12-b560db198c0e"
   },
   "outputs": [
    {
     "data": {
      "text/plain": [
       "tensor([1, 2, 3, 4, 5], device='cuda:0')"
      ]
     },
     "execution_count": 45,
     "metadata": {},
     "output_type": "execute_result"
    }
   ],
   "source": [
    "gpu_tensor = torch.tensor([1,2,3,4,5]).to(device)\n",
    "gpu_tensor"
   ]
  },
  {
   "cell_type": "code",
   "execution_count": null,
   "metadata": {
    "id": "tsEHi9tNsnLo",
    "outputId": "4f021f9d-1b78-4ef3-c03d-b8936e3d4cd3"
   },
   "outputs": [
    {
     "name": "stdout",
     "output_type": "stream",
     "text": [
      "Expected all tensors to be on the same device, but found at least two devices, cuda:0 and cpu!\n"
     ]
    }
   ],
   "source": [
    "try:\n",
    "    gpu_tensor * cpu_tensor\n",
    "except Exception as e:\n",
    "    print(e)"
   ]
  },
  {
   "cell_type": "code",
   "execution_count": null,
   "metadata": {
    "id": "LXIRvshssnLo",
    "outputId": "8c5a005b-2af6-4927-eb44-9b63d03027ba"
   },
   "outputs": [
    {
     "data": {
      "text/plain": [
       "tensor([ 1,  4,  9, 16, 25], device='cuda:0')"
      ]
     },
     "execution_count": 47,
     "metadata": {},
     "output_type": "execute_result"
    }
   ],
   "source": [
    "gpu_tensor * cpu_tensor.to(device)"
   ]
  },
  {
   "cell_type": "markdown",
   "metadata": {
    "id": "pWxEl4I3snLp"
   },
   "source": [
    "## Working with PyTorch and Gradient Descent"
   ]
  },
  {
   "cell_type": "code",
   "execution_count": null,
   "metadata": {
    "id": "Ule1wzXZsnLp"
   },
   "outputs": [],
   "source": [
    "def gradient_descent(X, targets, model, optim, loss_fn, epochs=50, verbose=False):\n",
    "    # Cast X as tensor and set to float32\n",
    "    X = torch.tensor(X).float().to(device)\n",
    "\n",
    "    # Cast targets as tensor\n",
    "    targets = torch.tensor(targets).float().view(-1,1).to(device)\n",
    "    errors = []\n",
    "\n",
    "    for e in range(epochs):\n",
    "        # Reset gradients to zero otherwise PyTorch will\n",
    "        # sum the gradients if weights.grad != 0!\n",
    "        optim.zero_grad()\n",
    "\n",
    "        # Run data through linear model and get preds\n",
    "        preds = model(X)\n",
    "\n",
    "        # Compute error and loss based on preds\n",
    "        loss = loss_fn(preds, targets)\n",
    "        error = preds-targets\n",
    "        errors.append(error.cpu().detach().numpy())\n",
    "\n",
    "        # PyTorch method for computing the derivative of a tensor.\n",
    "        loss.backward()\n",
    "\n",
    "        # Extract the gadients that PyTorch automatically computed\n",
    "        # when we called loss.backward()\n",
    "        grads = \"\"\n",
    "        if verbose:\n",
    "            for i, param in enumerate(model.parameters()):\n",
    "                layer_grads = param.grad.cpu().detach().numpy()\n",
    "                if i % 2 == 0:\n",
    "                    grad_str = \"\\n\\t weight grads: {}\".format(layer_grads.reshape(-1,))\n",
    "                else:\n",
    "                    grad_str = \"\\n\\t bias grads: {}\".format(layer_grads.reshape(-1,))\n",
    "                grads += grad_str\n",
    "\n",
    "            print(\"Loss: {:.5f} {}\".format(loss, grads))\n",
    "\n",
    "        # PyTorch method for taking a gradient decent step\n",
    "        # which updates our model's parameters\n",
    "        optim.step()\n",
    "\n",
    "    return errors"
   ]
  },
  {
   "cell_type": "code",
   "execution_count": null,
   "metadata": {
    "id": "-eyn5SHhsnLp",
    "outputId": "a5d1c496-156e-42f1-8c28-a9b393325ab9"
   },
   "outputs": [
    {
     "data": {
      "text/plain": [
       "Text(0, 0.5, 'Targets')"
      ]
     },
     "execution_count": 6,
     "metadata": {},
     "output_type": "execute_result"
    },
    {
     "data": {
      "image/png": "[encoded data removed]",
      "text/plain": [
       "<Figure size 432x288 with 1 Axes>"
      ]
     },
     "metadata": {
      "needs_background": "light"
     },
     "output_type": "display_data"
    }
   ],
   "source": [
    "import numpy as np\n",
    "\n",
    "import matplotlib\n",
    "import matplotlib.pyplot as plt\n",
    "\n",
    "%matplotlib inline\n",
    "seed=1\n",
    "np.random.seed(seed)\n",
    "X = np.arange(-5.0, 5.0, 0.1, dtype=np.float32).reshape(-1, 1)\n",
    "\n",
    "y = np.power(X, 2)\n",
    "y_noise = 2 * np.random.normal(size = X.shape)\n",
    "targets = (y + y_noise)\n",
    "plt.plot(X, targets, 'bo')\n",
    "plt.xlabel(\"Data\")\n",
    "plt.ylabel(\"Targets\")"
   ]
  },
  {
   "cell_type": "code",
   "execution_count": null,
   "metadata": {
    "id": "1PnRdHD_snLq",
    "outputId": "f048b5f0-7123-4279-d8ac-742dff330c12"
   },
   "outputs": [
    {
     "data": {
      "text/plain": [
       "array([-5.0000000e+00, -4.9000001e+00, -4.8000002e+00, -4.7000003e+00,\n",
       "       -4.6000004e+00, -4.5000005e+00, -4.4000006e+00, -4.3000007e+00,\n",
       "       -4.2000008e+00, -4.1000009e+00, -4.0000010e+00, -3.9000010e+00,\n",
       "       -3.8000011e+00, -3.7000012e+00, -3.6000013e+00, -3.5000014e+00,\n",
       "       -3.4000015e+00, -3.3000016e+00, -3.2000017e+00, -3.1000018e+00,\n",
       "       -3.0000019e+00, -2.9000020e+00, -2.8000021e+00, -2.7000022e+00,\n",
       "       -2.6000023e+00, -2.5000024e+00, -2.4000025e+00, -2.3000026e+00,\n",
       "       -2.2000027e+00, -2.1000028e+00, -2.0000029e+00, -1.9000030e+00,\n",
       "       -1.8000031e+00, -1.7000031e+00, -1.6000032e+00, -1.5000033e+00,\n",
       "       -1.4000034e+00, -1.3000035e+00, -1.2000036e+00, -1.1000037e+00,\n",
       "       -1.0000038e+00, -9.0000391e-01, -8.0000401e-01, -7.0000410e-01,\n",
       "       -6.0000420e-01, -5.0000429e-01, -4.0000439e-01, -3.0000448e-01,\n",
       "       -2.0000458e-01, -1.0000467e-01, -4.7683716e-06,  9.9995136e-02,\n",
       "        1.9999504e-01,  2.9999495e-01,  3.9999485e-01,  4.9999475e-01,\n",
       "        5.9999466e-01,  6.9999456e-01,  7.9999447e-01,  8.9999437e-01,\n",
       "        9.9999428e-01,  1.0999942e+00,  1.1999941e+00,  1.2999940e+00,\n",
       "        1.3999939e+00,  1.4999938e+00,  1.5999937e+00,  1.6999936e+00,\n",
       "        1.7999935e+00,  1.8999934e+00,  1.9999933e+00,  2.0999932e+00,\n",
       "        2.1999931e+00,  2.2999930e+00,  2.3999929e+00,  2.4999928e+00,\n",
       "        2.5999928e+00,  2.6999927e+00,  2.7999926e+00,  2.8999925e+00,\n",
       "        2.9999924e+00,  3.0999928e+00,  3.1999922e+00,  3.2999916e+00,\n",
       "        3.3999920e+00,  3.4999924e+00,  3.5999918e+00,  3.6999912e+00,\n",
       "        3.7999916e+00,  3.8999920e+00,  3.9999914e+00,  4.0999908e+00,\n",
       "        4.1999912e+00,  4.2999916e+00,  4.3999910e+00,  4.4999905e+00,\n",
       "        4.5999908e+00,  4.6999912e+00,  4.7999907e+00,  4.8999901e+00],\n",
       "      dtype=float32)"
      ]
     },
     "execution_count": 7,
     "metadata": {},
     "output_type": "execute_result"
    }
   ],
   "source": [
    "X.flatten()"
   ]
  },
  {
   "cell_type": "code",
   "execution_count": null,
   "metadata": {
    "id": "yJRYlZftsnLq",
    "outputId": "a358b015-5b7b-4393-ac92-d2d4a027bf38"
   },
   "outputs": [
    {
     "data": {
      "text/plain": [
       "array([28.24869073, 22.7864874 , 21.98365741, 19.94406482, 22.89081892,\n",
       "       15.64692642, 22.84962795, 16.96759169, 18.27808521, 16.31126634,\n",
       "       18.9242235 , 11.0897272 , 13.79517471, 12.92190041, 15.22754846,\n",
       "       10.05022796, 11.21515354,  9.134294  , 10.32443871, 10.77564153,\n",
       "        6.79877309, 10.69945871,  9.64319304,  8.29500056,  8.56172357,\n",
       "        4.8825562 ,  5.51423122,  3.41847301,  4.30423544,  5.4707227 ,\n",
       "        2.61668994,  2.81650429,  1.86566558,  1.19959931,  1.21751817,\n",
       "        2.22468082, -0.27461112,  2.15884051,  4.75961299,  2.69409647,\n",
       "        0.61633652, -0.96525089, -0.85431016,  3.87491493,  0.46162053,\n",
       "       -1.023987  ,  0.54183448,  4.29051296,  0.28031974,  1.24440715,\n",
       "        0.60034064, -0.69450067, -2.24503838, -0.60868848, -0.25779258,\n",
       "        1.42324114,  2.0379604 ,  2.35219654,  1.21116581,  2.5802722 ,\n",
       "       -0.50880733,  3.71572347,  2.46584539,  1.09379865,  2.93701917,\n",
       "        2.09883798,  4.82323869,  5.9296118 ,  7.61112746,  0.81698243,\n",
       "        1.11174569,  3.40103999,  5.16004377,  7.04230586,  6.39123579,\n",
       "        2.20556181,  6.14755406,  8.94590967,  8.30014766,  9.93397834,\n",
       "        8.55529794,  9.2084387 , 10.61307296, 11.71004832, 11.95654455,\n",
       "       12.48796389, 11.61861634, 14.4450623 , 14.68357918, 17.46890491,\n",
       "       18.3977671 , 17.18023791, 16.88935701, 17.21246648, 20.20690921,\n",
       "       20.40459431, 20.47220857, 22.17711185, 21.79990767, 25.40596702])"
      ]
     },
     "execution_count": 8,
     "metadata": {},
     "output_type": "execute_result"
    }
   ],
   "source": [
    "targets.flatten()"
   ]
  },
  {
   "cell_type": "markdown",
   "metadata": {
    "id": "JKXYidLJsnLq"
   },
   "source": [
    "## Building a Linear or Affine Neural Network\n",
    "\n",
    "<img src=\"https://live.staticflickr.com/65535/51084457991_ca0f478b25_b.jpg\" height=400, width=400 align=center>"
   ]
  },
  {
   "cell_type": "markdown",
   "metadata": {
    "id": "wuAoaFiIsnLq"
   },
   "source": [
    "**3 Crucial Components**\n",
    "1. First, we need to define our PyTorch neural network **model**.\n",
    "2. Second, we need to define the type of **optimizer** we want to use to update our model's weights/parameters.\n",
    "3. Third, we need to define the type of **loss** we want to use to asses our model's performance and compute the gradients based off of."
   ]
  },
  {
   "cell_type": "code",
   "execution_count": null,
   "metadata": {
    "id": "ua4Mv9bosnLr",
    "outputId": "b402d22f-bd21-4288-f5a2-e480313c0f13"
   },
   "outputs": [
    {
     "data": {
      "text/plain": [
       "[<matplotlib.lines.Line2D at 0x7faede75f518>]"
      ]
     },
     "execution_count": 48,
     "metadata": {},
     "output_type": "execute_result"
    },
    {
     "data": {
      "image/png": "[encoded data removed]",
      "text/plain": [
       "<Figure size 432x288 with 1 Axes>"
      ]
     },
     "metadata": {
      "needs_background": "light"
     },
     "output_type": "display_data"
    }
   ],
   "source": [
    "from torch import nn\n",
    "\n",
    "# Define a PyTorch linear neural network with 0 hidden layers\n",
    "model = nn.Sequential(\n",
    "    nn.Linear(in_features=X.shape[-1], out_features=1)\n",
    ").to(device)\n",
    "\n",
    "# Define PyTorch SGD optimizer\n",
    "optim = torch.optim.SGD(model.parameters(), lr=.1)\n",
    "\n",
    "# Define PyTorch MSE loss\n",
    "mse = nn.MSELoss(reduction='mean')\n",
    "\n",
    "# Call gradient decent method to learn our weights\n",
    "_ = gradient_descent(X, targets, model, optim, mse, epochs=10)\n",
    "\n",
    "# Get predictions from model\n",
    "preds = model(torch.tensor(X).to(device).float()).cpu().detach().numpy()\n",
    "\n",
    "# Plot targets and line of best fit\n",
    "plt.plot(X[:, 0], targets, 'o')\n",
    "plt.plot(X[:, 0], preds, 'go')"
   ]
  },
  {
   "cell_type": "code",
   "execution_count": null,
   "metadata": {
    "id": "4HkzgtdOsnLr",
    "outputId": "c4d36e77-3e57-4ce7-84bf-8438595e27fa"
   },
   "outputs": [
    {
     "name": "stdout",
     "output_type": "stream",
     "text": [
      "==========================================================================================\n",
      "Layer (type:depth-idx)                   Output Shape              Param #\n",
      "==========================================================================================\n",
      "├─Linear: 1-1                            [-1, 1]                   2\n",
      "==========================================================================================\n",
      "Total params: 2\n",
      "Trainable params: 2\n",
      "Non-trainable params: 0\n",
      "Total mult-adds (M): 0.00\n",
      "==========================================================================================\n",
      "Input size (MB): 0.00\n",
      "Forward/backward pass size (MB): 0.00\n",
      "Params size (MB): 0.00\n",
      "Estimated Total Size (MB): 0.00\n",
      "==========================================================================================\n"
     ]
    }
   ],
   "source": [
    "from torchsummary import summary\n",
    "summary(model, (X.shape[-1],));"
   ]
  },
  {
   "cell_type": "markdown",
   "metadata": {
    "id": "iQdwIYV8snLr"
   },
   "source": [
    "## Building a Non-linear Neural Network\n",
    "<img src=\"https://live.staticflickr.com/65535/51015276905_62380779db_b.jpg\" width=\"400\" height=\"400\" alt=\"nonlinear_networks_veq\">"
   ]
  },
  {
   "cell_type": "code",
   "execution_count": null,
   "metadata": {
    "id": "A4ZATODKsnLr",
    "outputId": "3573f69d-f7e4-467a-8fc8-fbf68c37a967"
   },
   "outputs": [
    {
     "data": {
      "image/png": "[encoded data removed]",
      "text/plain": [
       "<Figure size 432x288 with 1 Axes>"
      ]
     },
     "metadata": {
      "needs_background": "light"
     },
     "output_type": "display_data"
    }
   ],
   "source": [
    "model = nn.Sequential(\n",
    "    nn.Linear(in_features=X.shape[-1], out_features=1),\n",
    "    nn.ReLU(),\n",
    ").to(device)\n",
    "\n",
    "# Define SGD optimizer\n",
    "optim = torch.optim.SGD(model.parameters(), lr=.01)\n",
    "\n",
    "# Define MSE loss\n",
    "mse = nn.MSELoss(reduction='mean')\n",
    "\n",
    "# Call gradient decent method to learn our weights\n",
    "_ = gradient_descent(X, targets, model, optim, mse, epochs=25)\n",
    "\n",
    "# Get predictions from model\n",
    "preds = model(torch.tensor(X).to(device).float()).cpu().detach().numpy()\n",
    "\n",
    "# Plot targets and line of best fit\n",
    "plt.title(\"Non-Linear Net\")\n",
    "plt.plot(X[:, 0], targets, 'o')\n",
    "plt.plot(X[:, 0], preds, 'go')\n",
    "plt.show()"
   ]
  },
  {
   "cell_type": "code",
   "execution_count": null,
   "metadata": {
    "id": "-lqXFFlXsnLr",
    "outputId": "54029d33-ab05-4135-e7c1-41eef0cca091"
   },
   "outputs": [
    {
     "data": {
      "text/plain": [
       "tensor([-10.,  -9.,  -8.,  -7.,  -6.,  -5.,  -4.,  -3.,  -2.,  -1.,   0.,   1.,\n",
       "          2.,   3.,   4.,   5.,   6.,   7.,   8.,   9.])"
      ]
     },
     "execution_count": 54,
     "metadata": {},
     "output_type": "execute_result"
    }
   ],
   "source": [
    "fake_input = torch.arange(-10, 10).float()\n",
    "fake_input"
   ]
  },
  {
   "cell_type": "code",
   "execution_count": null,
   "metadata": {
    "id": "5w5iKKNSsnLs",
    "outputId": "2e3fdc61-bbd8-4a16-ff48-b571b3e66928"
   },
   "outputs": [
    {
     "data": {
      "text/plain": [
       "tensor([0., 0., 0., 0., 0., 0., 0., 0., 0., 0., 0., 1., 2., 3., 4., 5., 6., 7.,\n",
       "        8., 9.])"
      ]
     },
     "execution_count": 55,
     "metadata": {},
     "output_type": "execute_result"
    }
   ],
   "source": [
    "relu_activation = nn.ReLU()\n",
    "relu_output = relu_activation(fake_input)\n",
    "relu_output"
   ]
  },
  {
   "cell_type": "code",
   "execution_count": null,
   "metadata": {
    "id": "o616sbNOsnLs",
    "outputId": "a762353a-7fd4-4722-ebc5-c8167b45bfe1"
   },
   "outputs": [
    {
     "data": {
      "image/png": "[encoded data removed]",
      "text/plain": [
       "<Figure size 432x288 with 1 Axes>"
      ]
     },
     "metadata": {
      "needs_background": "light"
     },
     "output_type": "display_data"
    }
   ],
   "source": [
    "plt.plot(fake_input, relu_output)\n",
    "plt.ylim(top=8)\n",
    "plt.ylim(bottom=-8)\n",
    "plt.grid()\n",
    "plt.show()"
   ]
  },
  {
   "cell_type": "code",
   "execution_count": null,
   "metadata": {
    "id": "P8x-m0ivsnLs",
    "outputId": "6d9ddd32-bbe1-4083-b2b3-f977bc609c86"
   },
   "outputs": [
    {
     "data": {
      "text/plain": [
       "array([-5.0000000e+00, -4.9000001e+00, -4.8000002e+00, -4.7000003e+00,\n",
       "       -4.6000004e+00, -4.5000005e+00, -4.4000006e+00, -4.3000007e+00,\n",
       "       -4.2000008e+00, -4.1000009e+00, -4.0000010e+00, -3.9000010e+00,\n",
       "       -3.8000011e+00, -3.7000012e+00, -3.6000013e+00, -3.5000014e+00,\n",
       "       -3.4000015e+00, -3.3000016e+00, -3.2000017e+00, -3.1000018e+00,\n",
       "       -3.0000019e+00, -2.9000020e+00, -2.8000021e+00, -2.7000022e+00,\n",
       "       -2.6000023e+00, -2.5000024e+00, -2.4000025e+00, -2.3000026e+00,\n",
       "       -2.2000027e+00, -2.1000028e+00, -2.0000029e+00, -1.9000030e+00,\n",
       "       -1.8000031e+00, -1.7000031e+00, -1.6000032e+00, -1.5000033e+00,\n",
       "       -1.4000034e+00, -1.3000035e+00, -1.2000036e+00, -1.1000037e+00,\n",
       "       -1.0000038e+00, -9.0000391e-01, -8.0000401e-01, -7.0000410e-01,\n",
       "       -6.0000420e-01, -5.0000429e-01, -4.0000439e-01, -3.0000448e-01,\n",
       "       -2.0000458e-01, -1.0000467e-01, -4.7683716e-06,  9.9995136e-02,\n",
       "        1.9999504e-01,  2.9999495e-01,  3.9999485e-01,  4.9999475e-01,\n",
       "        5.9999466e-01,  6.9999456e-01,  7.9999447e-01,  8.9999437e-01,\n",
       "        9.9999428e-01,  1.0999942e+00,  1.1999941e+00,  1.2999940e+00,\n",
       "        1.3999939e+00,  1.4999938e+00,  1.5999937e+00,  1.6999936e+00,\n",
       "        1.7999935e+00,  1.8999934e+00,  1.9999933e+00,  2.0999932e+00,\n",
       "        2.1999931e+00,  2.2999930e+00,  2.3999929e+00,  2.4999928e+00,\n",
       "        2.5999928e+00,  2.6999927e+00,  2.7999926e+00,  2.8999925e+00,\n",
       "        2.9999924e+00,  3.0999928e+00,  3.1999922e+00,  3.2999916e+00,\n",
       "        3.3999920e+00,  3.4999924e+00,  3.5999918e+00,  3.6999912e+00,\n",
       "        3.7999916e+00,  3.8999920e+00,  3.9999914e+00,  4.0999908e+00,\n",
       "        4.1999912e+00,  4.2999916e+00,  4.3999910e+00,  4.4999905e+00,\n",
       "        4.5999908e+00,  4.6999912e+00,  4.7999907e+00,  4.8999901e+00],\n",
       "      dtype=float32)"
      ]
     },
     "execution_count": 16,
     "metadata": {},
     "output_type": "execute_result"
    }
   ],
   "source": [
    "X.flatten()"
   ]
  },
  {
   "cell_type": "markdown",
   "metadata": {
    "id": "zsepcvvbsnL6"
   },
   "source": [
    "## Building a Non-linear Neural Network With a Hidden Layer\n",
    "\n",
    "<img src=\"https://live.staticflickr.com/65535/51015276900_c209506a26_b.jpg\" width=\"600\" height=\"600\" alt=\"nonlinear_networks2_veq\">"
   ]
  },
  {
   "cell_type": "code",
   "execution_count": null,
   "metadata": {
    "id": "NluQ3SpmsnL6",
    "outputId": "6104fe82-8bae-4478-fca3-15968f70dd52"
   },
   "outputs": [
    {
     "data": {
      "image/png": "[encoded data removed]",
      "text/plain": [
       "<Figure size 432x288 with 1 Axes>"
      ]
     },
     "metadata": {
      "needs_background": "light"
     },
     "output_type": "display_data"
    }
   ],
   "source": [
    "hu = 1\n",
    "# Define a PyTorch shallow neural network with 1 hidden layer\n",
    "model = nn.Sequential(\n",
    "    nn.Linear(in_features=X.shape[-1], out_features=hu),\n",
    "    nn.ReLU(),\n",
    "    nn.Linear(in_features=hu, out_features=1),\n",
    ").to(device)\n",
    "\n",
    "# Define SGD optimizer\n",
    "optim = torch.optim.SGD(model.parameters(), lr=.01)\n",
    "\n",
    "# Define MSE loss\n",
    "mse = nn.MSELoss(reduction='mean')\n",
    "\n",
    "# Call gradient decent method to learn our weights\n",
    "_ = gradient_descent(X, targets, model, optim, mse, epochs=25)\n",
    "\n",
    "# Get predictions from model\n",
    "preds = model(torch.tensor(X).to(device).float()).cpu().detach().numpy()\n",
    "\n",
    "# Plot targets and line of best fit\n",
    "plt.title(\"Non-linear Hidden Layer Net \")\n",
    "plt.plot(X[:, 0], targets, 'o')\n",
    "plt.plot(X[:, 0], preds, 'go')\n",
    "plt.show()"
   ]
  },
  {
   "cell_type": "markdown",
   "metadata": {
    "id": "mWRxUrB_snL6"
   },
   "source": [
    "## Building a Shallow Neural Network\n",
    "\n",
    "<img src=\"https://live.staticflickr.com/65535/51084461451_34823e31a2_b.jpg\" width=\"700\" height=\"700\" alt=\"shallow_networks_veq\">"
   ]
  },
  {
   "cell_type": "code",
   "execution_count": null,
   "metadata": {
    "id": "feTg5fFVsnL6",
    "outputId": "4c5198a9-e3a6-4d32-e939-b83d4e2e6619"
   },
   "outputs": [
    {
     "data": {
      "image/png": "[encoded data removed]",
      "text/plain": [
       "<Figure size 432x288 with 1 Axes>"
      ]
     },
     "metadata": {
      "needs_background": "light"
     },
     "output_type": "display_data"
    }
   ],
   "source": [
    "hu = 10\n",
    "# Define a PyTorch shallow neural network with 1 hidden layer\n",
    "model = nn.Sequential(\n",
    "    nn.Linear(in_features=X.shape[-1], out_features=hu),\n",
    "    nn.ReLU(),\n",
    "    nn.Linear(in_features=hu, out_features=1),\n",
    ").to(device)\n",
    "\n",
    "# Define SGD optimizer\n",
    "optim = torch.optim.SGD(model.parameters(), lr=.01)\n",
    "\n",
    "# Define MSE loss\n",
    "mse = nn.MSELoss(reduction='mean')\n",
    "\n",
    "# Call gradient decent method to learn our weights\n",
    "_ = gradient_descent(X, targets, model, optim, mse, epochs=25)\n",
    "\n",
    "# Get predictions from model\n",
    "preds = model(torch.tensor(X).to(device).float()).cpu().detach().numpy()\n",
    "\n",
    "# Plot targets and line of best fit\n",
    "plt.title(\"Shallow Network\")\n",
    "plt.plot(X[:, 0], targets, 'o')\n",
    "plt.plot(X[:, 0], preds, 'go')\n",
    "plt.show()"
   ]
  },
  {
   "cell_type": "markdown",
   "metadata": {
    "id": "XAnjr9JAsnL7"
   },
   "source": [
    "### Testing Various Numbers of Hidden Units"
   ]
  },
  {
   "cell_type": "code",
   "execution_count": null,
   "metadata": {
    "id": "RWVvKcPwsnL7",
    "outputId": "a563ed6e-9d0c-4d5b-aaf8-a43fa958e6b5"
   },
   "outputs": [
    {
     "data": {
      "image/png": "[encoded data removed]",
      "text/plain": [
       "<Figure size 432x288 with 1 Axes>"
      ]
     },
     "metadata": {
      "needs_background": "light"
     },
     "output_type": "display_data"
    },
    {
     "data": {
      "image/png": "[encoded data removed]",
      "text/plain": [
       "<Figure size 432x288 with 1 Axes>"
      ]
     },
     "metadata": {
      "needs_background": "light"
     },
     "output_type": "display_data"
    },
    {
     "data": {
      "image/png": "[encoded data removed]",
      "text/plain": [
       "<Figure size 432x288 with 1 Axes>"
      ]
     },
     "metadata": {
      "needs_background": "light"
     },
     "output_type": "display_data"
    },
    {
     "data": {
      "image/png": "[encoded data removed]",
      "text/plain": [
       "<Figure size 432x288 with 1 Axes>"
      ]
     },
     "metadata": {
      "needs_background": "light"
     },
     "output_type": "display_data"
    }
   ],
   "source": [
    "hidden_units = [1, 10, 25, 100]\n",
    "\n",
    "for hu in hidden_units:\n",
    "    # Define a PyTorch shallow neural network with 1 hidden layer\n",
    "    model = nn.Sequential(\n",
    "        nn.Linear(in_features=X.shape[-1], out_features=hu),\n",
    "        nn.ReLU(),\n",
    "        nn.Linear(in_features=hu, out_features=1)\n",
    "    ).to(device)\n",
    "\n",
    "    # Define SGD optimizer\n",
    "    optim = torch.optim.SGD(model.parameters(), lr=.01)\n",
    "\n",
    "    # Define MSE loss\n",
    "    mse = nn.MSELoss(reduction='mean')\n",
    "\n",
    "    # Call gradient decent method to learn our weights\n",
    "    _ = gradient_descent(X, targets, model, optim, mse, epochs=25)\n",
    "\n",
    "    # Get predictions from model\n",
    "    preds = model(torch.tensor(X).to(device).float()).cpu().detach().numpy()\n",
    "\n",
    "    # Plot targets and line of best fit\n",
    "    plt.title(\"Hidden Units: {}\".format(hu))\n",
    "    plt.plot(X[:, 0], targets, 'o')\n",
    "    plt.plot(X[:, 0], preds, 'go')\n",
    "    plt.show()"
   ]
  },
  {
   "cell_type": "markdown",
   "metadata": {
    "id": "1W7vlIuisnL7"
   },
   "source": [
    "### Testing Various Numbers of Hidden Layer"
   ]
  },
  {
   "cell_type": "code",
   "execution_count": null,
   "metadata": {
    "id": "DLhiPHO4snL7",
    "outputId": "793bf867-4c2e-43c0-e6de-2eb8c8c67403"
   },
   "outputs": [
    {
     "data": {
      "image/png": "[encoded data removed]",
      "text/plain": [
       "<Figure size 432x288 with 1 Axes>"
      ]
     },
     "metadata": {
      "needs_background": "light"
     },
     "output_type": "display_data"
    },
    {
     "data": {
      "image/png": "[encoded data removed]",
      "text/plain": [
       "<Figure size 432x288 with 1 Axes>"
      ]
     },
     "metadata": {
      "needs_background": "light"
     },
     "output_type": "display_data"
    },
    {
     "data": {
      "image/png": "[encoded data removed]",
      "text/plain": [
       "<Figure size 432x288 with 1 Axes>"
      ]
     },
     "metadata": {
      "needs_background": "light"
     },
     "output_type": "display_data"
    },
    {
     "data": {
      "image/png": "[encoded data removed]",
      "text/plain": [
       "<Figure size 432x288 with 1 Axes>"
      ]
     },
     "metadata": {
      "needs_background": "light"
     },
     "output_type": "display_data"
    }
   ],
   "source": [
    "hu = 10\n",
    "hidden_layers = [1, 2, 6, 10]\n",
    "\n",
    "for hl in hidden_layers:\n",
    "\n",
    "    layers = []\n",
    "    for i in range(hl):\n",
    "        # If it is the first layer set inputs equal number of features in X\n",
    "        if i == 0:\n",
    "            layers.append(nn.Linear(in_features=X.shape[-1], out_features=hu))\n",
    "        else:\n",
    "            layers.append(nn.Linear(in_features=hu, out_features=hu))\n",
    "        layers.append(nn.ReLU())\n",
    "\n",
    "    model = nn.Sequential(\n",
    "        *layers,\n",
    "        nn.Linear(in_features=hu, out_features=1)\n",
    "    ).to(device)\n",
    "\n",
    "    # Define PyTorch SGD optimizer\n",
    "    optim = torch.optim.SGD(model.parameters(), lr=.01)\n",
    "\n",
    "    # Define PyTorch MSE loss\n",
    "    mse = nn.MSELoss(reduction='mean')\n",
    "\n",
    "    # Call gradient decent method to learn our weights\n",
    "    _ = gradient_descent(X, targets, model, optim, mse, epochs=25)\n",
    "\n",
    "    # Get predictions from model\n",
    "    preds = model(torch.tensor(X).to(device).float()).cpu().detach().numpy()\n",
    "\n",
    "    # Plot targets and line of best fit\n",
    "    plt.title(\"Hidden Layers: {}\".format(hl))\n",
    "    plt.plot(X[:, 0], targets, 'o')\n",
    "    plt.plot(X[:, 0], preds, 'go')\n",
    "    plt.show()"
   ]
  },
  {
   "cell_type": "markdown",
   "metadata": {
    "id": "z3sEX5ogsnL7"
   },
   "source": [
    "## Using FastAI to Learn\n",
    "\n",
    "Now let's try using a proper train and validation set and using FastAI to perform gradient descent for us!\n",
    "\n",
    "### Important Terms\n",
    "- Batches ([ref](https://stats.stackexchange.com/questions/117919/what-are-the-differences-between-epoch-batch-and-minibatch))\n",
    "    - Batches refers to passing all our data at once to a model. This is what we do for normal gradient descent, like we did above.\n",
    "- Mini-batches ([ref](https://stats.stackexchange.com/questions/117919/what-are-the-differences-between-epoch-batch-and-minibatch))\n",
    "    - A mini-batch refers to passing a subset of our data to the model at a time.\n",
    "    - Note that mini-batch and batch are often used interchangeably but technically refer to different things.\n",
    "- Epoch ([ref](https://stats.stackexchange.com/questions/117919/what-are-the-differences-between-epoch-batch-and-minibatch))\n",
    "    - An epoch indicates one full pass over the data has been done or in other words our model has used every data sample in the data for learning. One batch equals one epoch where it takes many mini-batches, depending on the size of the mini-batch, to perform one epoch.\n",
    "- Stochastic Gradient Descent (SGD)\n",
    "    - SGD refers to using gradient descent to update our model but now we are using randomly generated mini-batches to make small updates to our model. This is differs from normal gradient descent which is fed a batch or the whole dataset at once!\n",
    "- Learner ([docs](https://docs.fast.ai/learner.html#Learner))\n",
    "    - This is a FastAI class that is used to learn the weights of our model. The learner takes the 3 crucial neural network components mentioned above and data given in the form of the `DataLoaders` class\n",
    "- DataLoader ([docs](https://docs.fast.ai/data.load.html#DataLoader))\n",
    "    - FastAI class for wrapping a dataset and segmenting it into mini-batches.This class also allows us to transformation or pre-process our dataset as well. We tpyically create a `DataLoader` for both the train, validation, and test sets.\n",
    "- DataLoaders ([docs](https://docs.fast.ai/data.core.html#DataLoaders))\n",
    "    - FastAI class used to simply group multiple `Dataloader` classes. Essentially this class is used to group our train `DataLoader`and validation `DataLoader`.\n",
    "- DataBlock ([tutorial-1](https://docs.fast.ai/tutorial.datablock.html)) ([tutorial-2](https://github.com/fastai/fastbook/blob/master/06_multicat.ipynb))\n",
    "    - FastAI class for loading data either from files, directories, or from data store in memory (like NumPy arrays or DataFrames). The `DataBlock` class tells FastAI how to create a `Dataloaders` class consisting of a train `DataLoader` and validation `DataLoader`. A `Datablock` essentially specifies all the pre-processing steps to take to make our data ready for learning!\n",
    "    \n",
    "#### Typical FastAI Workflows\n",
    "- For images and text data\n",
    "    - **DataBlock -> DataLoaders -> Learner**\n",
    "- For Tabular Data (doesn)\n",
    "    - TabularDataLoaders -> Learner\n",
    "    - TabularPandas -> DataLoaders -> Leaner\n",
    "    - **Load data from .csv with Pandas or Numpy -> DataBlock -> DataLoaders -> Learner**"
   ]
  },
  {
   "cell_type": "markdown",
   "metadata": {
    "id": "0V22f7XssnL8"
   },
   "source": [
    "### Data Loading"
   ]
  },
  {
   "cell_type": "code",
   "execution_count": null,
   "metadata": {
    "id": "yFLSxo12snL8"
   },
   "outputs": [],
   "source": [
    "from fastai.data.all import *\n",
    "\n",
    "valid_split = .2\n",
    "seed = 1\n",
    "data_block = TransformBlock(type_tfms=ToTensor(torch.FloatTensor))\n",
    "target_block = RegressionBlock()\n",
    "\n",
    "def get_x(data):\n",
    "    return data[:-1]\n",
    "\n",
    "def get_y(data):\n",
    "    return data[-1:]\n",
    "\n",
    "db = DataBlock(blocks=(data_block, target_block),\n",
    "                         splitter=RandomSplitter(valid_pct=valid_split, seed=seed),\n",
    "                         get_x=get_x,\n",
    "                         get_y=get_y,\n",
    "                        )\n",
    "dataset = np.hstack([X, targets]).astype(np.float32)"
   ]
  },
  {
   "cell_type": "code",
   "execution_count": null,
   "metadata": {
    "id": "vE-Nt_FYsnL8"
   },
   "outputs": [],
   "source": [
    "dls = db.dataloaders(dataset, bs=50)"
   ]
  },
  {
   "cell_type": "code",
   "execution_count": null,
   "metadata": {
    "id": "L0In_g1GsnL8",
    "outputId": "f4356ff5-40f9-4d49-953b-326477c71462"
   },
   "outputs": [
    {
     "name": "stdout",
     "output_type": "stream",
     "text": [
      "Setting-up type transforms pipelines\n",
      "Collecting items from [[-5.        28.248692 ]\n",
      " [-4.9       22.786488 ]\n",
      " [-4.8       21.983658 ]\n",
      " [-4.7000003 19.944065 ]\n",
      " [-4.6000004 22.89082  ]]\n",
      "Found 5 items\n",
      "2 datasets of sizes 4,1\n",
      "Setting up Pipeline: get_x -> FloatTensor\n",
      "Setting up Pipeline: get_y -> RegressionSetup -- {'c': None}\n",
      "\n",
      "Building one sample\n",
      "  Pipeline: get_x -> FloatTensor\n",
      "    starting from\n",
      "      [-4.6000004 22.89082  ]\n",
      "    applying get_x gives\n",
      "      [-4.6000004]\n",
      "    applying FloatTensor gives\n",
      "      tensor([-4.6000])\n",
      "  Pipeline: get_y -> RegressionSetup -- {'c': None}\n",
      "    starting from\n",
      "      [-4.6000004 22.89082  ]\n",
      "    applying get_y gives\n",
      "      [22.89082]\n",
      "    applying RegressionSetup -- {'c': None} gives\n",
      "      tensor([22.8908])\n",
      "\n",
      "Final sample: (tensor([-4.6000]), tensor([22.8908]))\n",
      "\n",
      "\n",
      "Collecting items from [[-5.        28.248692 ]\n",
      " [-4.9       22.786488 ]\n",
      " [-4.8       21.983658 ]\n",
      " [-4.7000003 19.944065 ]\n",
      " [-4.6000004 22.89082  ]]\n",
      "Found 5 items\n",
      "2 datasets of sizes 4,1\n",
      "Setting up Pipeline: get_x -> FloatTensor\n",
      "Setting up Pipeline: get_y -> RegressionSetup -- {'c': None}\n",
      "Setting up after_item: Pipeline: ToTensor\n",
      "Setting up before_batch: Pipeline: \n",
      "Setting up after_batch: Pipeline: \n",
      "\n",
      "Building one batch\n",
      "Applying item_tfms to the first sample:\n",
      "  Pipeline: ToTensor\n",
      "    starting from\n",
      "      (tensor([-4.6000]), tensor([22.8908]))\n",
      "    applying ToTensor gives\n",
      "      (tensor([-4.6000]), tensor([22.8908]))\n",
      "\n",
      "Adding the next 3 samples\n",
      "\n",
      "No before_batch transform to apply\n",
      "\n",
      "Collating items in a batch\n",
      "\n",
      "No batch_tfms to apply\n"
     ]
    }
   ],
   "source": [
    "db.summary(dataset[:5])"
   ]
  },
  {
   "cell_type": "code",
   "execution_count": null,
   "metadata": {
    "id": "qDMWW-JFsnL8",
    "outputId": "8b593755-0193-48a7-bc29-5882fb048634"
   },
   "outputs": [
    {
     "name": "stdout",
     "output_type": "stream",
     "text": [
      "tensor([-1.9000,  1.0000, -4.9000, -4.5000, -2.3000,  0.6000,  3.1000,  2.1000,\n",
      "        -0.7000,  4.7000,  1.5000, -4.8000,  4.4000,  0.4000, -3.6000, -2.2000,\n",
      "         1.4000,  1.9000,  1.8000, -1.6000, -4.3000, -1.2000, -2.6000,  4.3000,\n",
      "         1.6000, -2.0000, -0.4000, -2.4000, -3.0000, -2.5000, -0.3000,  2.7000,\n",
      "        -4.6000, -0.9000,  3.2000,  3.5000, -4.2000, -1.3000,  2.0000,  0.9000,\n",
      "         1.7000, -1.0000,  4.2000,  4.8000, -5.0000, -2.9000,  2.5000,  3.3000,\n",
      "         3.9000, -0.6000], device='cuda:0')\n",
      "tensor([ 2.8165, -0.5088, 22.7865, 15.6469,  3.4185,  2.0380,  9.2084,  3.4010,\n",
      "         3.8749, 22.1771,  2.0988, 21.9837, 20.2069, -0.2578, 15.2275,  4.3042,\n",
      "         2.9370,  0.8170,  7.6111,  1.2175, 16.9676,  4.7596,  8.5617, 17.2125,\n",
      "         4.8232,  2.6167,  0.5418,  5.5142,  6.7988,  4.8826,  4.2905,  8.9459,\n",
      "        22.8908, -0.9653, 10.6131, 12.4880, 18.2781,  2.1588,  1.1117,  2.5803,\n",
      "         5.9296,  0.6163, 16.8894, 21.7999, 28.2487, 10.6995,  2.2056, 11.7100,\n",
      "        17.4689,  0.4616], device='cuda:0')\n"
     ]
    }
   ],
   "source": [
    "x, y = dls.one_batch()\n",
    "print(x.flatten())\n",
    "print(y.flatten())"
   ]
  },
  {
   "cell_type": "code",
   "execution_count": null,
   "metadata": {
    "id": "qlpx6GLusnL9",
    "outputId": "ed725d8b-f5d8-4fc5-84ba-eee0293ea8be"
   },
   "outputs": [
    {
     "data": {
      "text/plain": [
       "(#80) [(tensor([-4.7684e-06]), tensor([0.6003])),(tensor([-1.7000]), tensor([1.1996])),(tensor([1.6000]), tensor([4.8232])),(tensor([4.9000]), tensor([25.4060])),(tensor([-0.7000]), tensor([3.8749])),(tensor([2.6000]), tensor([6.1476])),(tensor([-4.3000]), tensor([16.9676])),(tensor([0.7000]), tensor([2.3522])),(tensor([3.1000]), tensor([9.2084])),(tensor([3.2000]), tensor([10.6131]))...]"
      ]
     },
     "execution_count": 92,
     "metadata": {},
     "output_type": "execute_result"
    }
   ],
   "source": [
    "dls.train_ds"
   ]
  },
  {
   "cell_type": "code",
   "execution_count": null,
   "metadata": {
    "id": "CbEN0LBysnL9",
    "outputId": "b9c1642c-6db4-42a8-bb5f-1d560e9d1d5d"
   },
   "outputs": [
    {
     "data": {
      "text/plain": [
       "array([[-4.7683716e-06,  6.0034066e-01],\n",
       "       [-1.7000031e+00,  1.1995993e+00],\n",
       "       [ 1.5999937e+00,  4.8232388e+00],\n",
       "       [ 4.8999901e+00,  2.5405968e+01],\n",
       "       [-7.0000410e-01,  3.8749149e+00],\n",
       "       [ 2.5999928e+00,  6.1475539e+00],\n",
       "       [-4.3000007e+00,  1.6967592e+01],\n",
       "       [ 6.9999456e-01,  2.3521965e+00],\n",
       "       [ 3.0999928e+00,  9.2084389e+00],\n",
       "       [ 3.1999922e+00,  1.0613073e+01],\n",
       "       [-4.4000006e+00,  2.2849628e+01],\n",
       "       [-4.0000010e+00,  1.8924223e+01],\n",
       "       [-2.6000023e+00,  8.5617237e+00],\n",
       "       [ 1.9999504e-01, -2.2450383e+00],\n",
       "       [ 4.4999905e+00,  2.0404594e+01],\n",
       "       [ 2.2999930e+00,  7.0423059e+00],\n",
       "       [ 4.0999908e+00,  1.7180239e+01],\n",
       "       [-2.9000020e+00,  1.0699459e+01],\n",
       "       [-1.2000036e+00,  4.7596130e+00],\n",
       "       [-1.9000030e+00,  2.8165042e+00],\n",
       "       [ 3.4999924e+00,  1.2487964e+01],\n",
       "       [ 8.9999437e-01,  2.5802722e+00],\n",
       "       [-3.7000012e+00,  1.2921901e+01],\n",
       "       [ 1.8999934e+00,  8.1698245e-01],\n",
       "       [ 2.4999928e+00,  2.2055619e+00],\n",
       "       [ 1.9999933e+00,  1.1117457e+00],\n",
       "       [ 1.3999939e+00,  2.9370191e+00],\n",
       "       [-4.2000008e+00,  1.8278086e+01],\n",
       "       [ 2.6999927e+00,  8.9459095e+00],\n",
       "       [-1.6000032e+00,  1.2175182e+00],\n",
       "       [-4.0000439e-01,  5.4183447e-01],\n",
       "       [-1.1000037e+00,  2.6940966e+00],\n",
       "       [ 4.1999912e+00,  1.6889357e+01],\n",
       "       [-5.0000000e+00,  2.8248692e+01],\n",
       "       [-6.0000420e-01,  4.6162054e-01],\n",
       "       [ 4.7999907e+00,  2.1799908e+01],\n",
       "       [-1.0000467e-01,  1.2444072e+00],\n",
       "       [-4.1000009e+00,  1.6311266e+01],\n",
       "       [-4.6000004e+00,  2.2890820e+01],\n",
       "       [ 1.0999942e+00,  3.7157235e+00],\n",
       "       [-3.8000011e+00,  1.3795175e+01],\n",
       "       [ 3.2999916e+00,  1.1710049e+01],\n",
       "       [-2.2000027e+00,  4.3042355e+00],\n",
       "       [ 2.7999926e+00,  8.3001480e+00],\n",
       "       [-1.0000038e+00,  6.1633652e-01],\n",
       "       [ 3.7999916e+00,  1.4683579e+01],\n",
       "       [ 3.9999485e-01, -2.5779259e-01],\n",
       "       [-4.5000005e+00,  1.5646927e+01],\n",
       "       [-2.4000025e+00,  5.5142312e+00],\n",
       "       [-9.0000391e-01, -9.6525091e-01],\n",
       "       [ 3.8999920e+00,  1.7468904e+01],\n",
       "       [-3.0000019e+00,  6.7987733e+00],\n",
       "       [ 3.3999920e+00,  1.1956545e+01],\n",
       "       [-4.8000002e+00,  2.1983658e+01],\n",
       "       [-4.9000001e+00,  2.2786488e+01],\n",
       "       [ 4.9999475e-01,  1.4232411e+00],\n",
       "       [-3.1000018e+00,  1.0775641e+01],\n",
       "       [ 2.3999929e+00,  6.3912358e+00],\n",
       "       [-2.5000024e+00,  4.8825564e+00],\n",
       "       [-1.3000035e+00,  2.1588404e+00],\n",
       "       [-8.0000401e-01, -8.5431015e-01],\n",
       "       [-3.6000013e+00,  1.5227549e+01],\n",
       "       [-2.0000029e+00,  2.6166899e+00],\n",
       "       [-3.2000017e+00,  1.0324439e+01],\n",
       "       [ 1.6999936e+00,  5.9296117e+00],\n",
       "       [ 2.0999932e+00,  3.4010401e+00],\n",
       "       [ 1.7999935e+00,  7.6111274e+00],\n",
       "       [-2.3000026e+00,  3.4184730e+00],\n",
       "       [ 9.9999428e-01, -5.0880730e-01],\n",
       "       [ 9.9995136e-02, -6.9450068e-01],\n",
       "       [-2.1000028e+00,  5.4707227e+00],\n",
       "       [ 5.9999466e-01,  2.0379603e+00],\n",
       "       [ 4.2999916e+00,  1.7212467e+01],\n",
       "       [-3.0000448e-01,  4.2905130e+00],\n",
       "       [ 4.6999912e+00,  2.2177113e+01],\n",
       "       [ 4.3999910e+00,  2.0206909e+01],\n",
       "       [ 3.5999918e+00,  1.1618616e+01],\n",
       "       [ 3.6999912e+00,  1.4445063e+01],\n",
       "       [ 1.4999938e+00,  2.0988381e+00],\n",
       "       [ 2.9999495e-01, -6.0868847e-01]], dtype=float32)"
      ]
     },
     "execution_count": 93,
     "metadata": {},
     "output_type": "execute_result"
    }
   ],
   "source": [
    "np.array(dls.train_ds)"
   ]
  },
  {
   "cell_type": "code",
   "execution_count": null,
   "metadata": {
    "id": "Jg8XxQ3LsnL9",
    "outputId": "c6b2df64-4eb1-484b-9311-55e2409d0d1f"
   },
   "outputs": [
    {
     "data": {
      "text/plain": [
       "(#20) [(tensor([-0.5000]), tensor([-1.0240])),(tensor([-3.5000]), tensor([10.0502])),(tensor([4.0000]), tensor([18.3978])),(tensor([-1.8000]), tensor([1.8657])),(tensor([-1.5000]), tensor([2.2247])),(tensor([1.3000]), tensor([1.0938])),(tensor([-3.3000]), tensor([9.1343])),(tensor([2.2000]), tensor([5.1600])),(tensor([2.9000]), tensor([9.9340])),(tensor([4.6000]), tensor([20.4722]))...]"
      ]
     },
     "execution_count": 28,
     "metadata": {},
     "output_type": "execute_result"
    }
   ],
   "source": [
    "dls.valid_ds"
   ]
  },
  {
   "cell_type": "markdown",
   "metadata": {
    "id": "OmOjIOu6snL9"
   },
   "source": [
    "### Learning"
   ]
  },
  {
   "cell_type": "code",
   "execution_count": null,
   "metadata": {
    "id": "Ivch0pp-snL9",
    "outputId": "b5a8308e-9681-4cf6-cbdd-ae1c3c2b5845",
    "scrolled": true
   },
   "outputs": [
    {
     "data": {
      "text/html": [
       "<table border=\"1\" class=\"dataframe\">\n",
       "  <thead>\n",
       "    <tr style=\"text-align: left;\">\n",
       "      <th>epoch</th>\n",
       "      <th>train_loss</th>\n",
       "      <th>valid_loss</th>\n",
       "      <th>time</th>\n",
       "    </tr>\n",
       "  </thead>\n",
       "  <tbody>\n",
       "    <tr>\n",
       "      <td>0</td>\n",
       "      <td>124.495209</td>\n",
       "      <td>89.353935</td>\n",
       "      <td>00:00</td>\n",
       "    </tr>\n",
       "    <tr>\n",
       "      <td>1</td>\n",
       "      <td>134.629593</td>\n",
       "      <td>73.654556</td>\n",
       "      <td>00:00</td>\n",
       "    </tr>\n",
       "    <tr>\n",
       "      <td>2</td>\n",
       "      <td>123.511009</td>\n",
       "      <td>50.438877</td>\n",
       "      <td>00:00</td>\n",
       "    </tr>\n",
       "    <tr>\n",
       "      <td>3</td>\n",
       "      <td>109.257248</td>\n",
       "      <td>22.009798</td>\n",
       "      <td>00:00</td>\n",
       "    </tr>\n",
       "    <tr>\n",
       "      <td>4</td>\n",
       "      <td>93.960167</td>\n",
       "      <td>11.577522</td>\n",
       "      <td>00:00</td>\n",
       "    </tr>\n",
       "    <tr>\n",
       "      <td>5</td>\n",
       "      <td>80.386124</td>\n",
       "      <td>15.543323</td>\n",
       "      <td>00:00</td>\n",
       "    </tr>\n",
       "    <tr>\n",
       "      <td>6</td>\n",
       "      <td>70.542000</td>\n",
       "      <td>9.100586</td>\n",
       "      <td>00:00</td>\n",
       "    </tr>\n",
       "    <tr>\n",
       "      <td>7</td>\n",
       "      <td>63.016201</td>\n",
       "      <td>11.208831</td>\n",
       "      <td>00:00</td>\n",
       "    </tr>\n",
       "    <tr>\n",
       "      <td>8</td>\n",
       "      <td>56.992489</td>\n",
       "      <td>10.706985</td>\n",
       "      <td>00:00</td>\n",
       "    </tr>\n",
       "    <tr>\n",
       "      <td>9</td>\n",
       "      <td>51.733326</td>\n",
       "      <td>11.363487</td>\n",
       "      <td>00:00</td>\n",
       "    </tr>\n",
       "  </tbody>\n",
       "</table>"
      ],
      "text/plain": [
       "<IPython.core.display.HTML object>"
      ]
     },
     "metadata": {},
     "output_type": "display_data"
    },
    {
     "data": {
      "text/html": [],
      "text/plain": [
       "<IPython.core.display.HTML object>"
      ]
     },
     "metadata": {},
     "output_type": "display_data"
    }
   ],
   "source": [
    "import fastai\n",
    "# Set FastAI to use CPU\n",
    "# If use_cuda == None then GPU is used\n",
    "# If use_cuda == True Error is thrown\n",
    "# If use_cude == False CPU is used\n",
    "# fastai.torch_core.defaults.use_cuda = False\n",
    "from fastai.learner import Learner\n",
    "from fastai.optimizer import SGD\n",
    "from fastai.torch_core import set_seed\n",
    "from fastai.callback.all import *\n",
    "\n",
    "set_seed(1)\n",
    "\n",
    "# Define a PyTorch deep neural network with 2 Hidden Layers\n",
    "hu = 10\n",
    "model = nn.Sequential(\n",
    "    nn.Linear(in_features=X.shape[-1], out_features=hu),\n",
    "    nn.ReLU(),\n",
    "    nn.Linear(in_features=hu, out_features=hu),\n",
    "    nn.ReLU(),\n",
    "    nn.Linear(in_features=hu, out_features=1)\n",
    ")\n",
    "\n",
    "# Define PyTorch Loss\n",
    "mse = nn.MSELoss(reduction='mean')\n",
    "\n",
    "# Learner requires a DataLoaders which contains BOTH a train_dl and valid_dl\n",
    "# Not having a valid_dl will cause errors!\n",
    "learn = Learner(dls, model, opt_func=SGD, loss_func=mse)\n",
    "learn.fit(10, lr=.01)\n",
    "\n",
    "# Gets predictions and targets\n",
    "y_preds, y_label = learn.get_preds()\n",
    "\n"
   ]
  },
  {
   "cell_type": "code",
   "execution_count": null,
   "metadata": {
    "id": "66naK0RmsnL-",
    "outputId": "fa546127-9b56-437d-de94-416dd22dc6c9"
   },
   "outputs": [
    {
     "data": {
      "image/png": "[encoded data removed]",
      "text/plain": [
       "<Figure size 432x288 with 1 Axes>"
      ]
     },
     "metadata": {
      "needs_background": "light"
     },
     "output_type": "display_data"
    }
   ],
   "source": [
    "plt.plot(y_label, 'bo')\n",
    "plt.plot(y_preds, 'gx')\n",
    "plt.show()"
   ]
  },
  {
   "cell_type": "code",
   "execution_count": null,
   "metadata": {
    "id": "qkXgVq8ksnL-",
    "outputId": "c05db942-24b6-4e3b-e814-8549c3df2921"
   },
   "outputs": [
    {
     "data": {
      "image/png": "[encoded data removed]",
      "text/plain": [
       "<Figure size 432x288 with 1 Axes>"
      ]
     },
     "metadata": {
      "needs_background": "light"
     },
     "output_type": "display_data"
    }
   ],
   "source": [
    "preds = learn.model(torch.tensor(X).to(device).float())\n",
    "# detach preds from PyTorch's backpropgation process\n",
    "preds = preds.cpu().detach().numpy()\n",
    "\n",
    "plt.plot(targets, 'bo')\n",
    "plt.plot(preds, 'go')\n",
    "plt.show()"
   ]
  }
 ],
 "metadata": {
  "celltoolbar": "Slideshow",
  "colab": {
   "provenance": []
  },
  "kernelspec": {
   "display_name": "Python 3",
   "language": "python",
   "name": "python3"
  },
  "language_info": {
   "codemirror_mode": {
    "name": "ipython",
    "version": 3
   },
   "file_extension": ".py",
   "mimetype": "text/x-python",
   "name": "python",
   "nbconvert_exporter": "python",
   "pygments_lexer": "ipython3",
   "version": "3.8.3"
  }
 },
 "nbformat": 4,
 "nbformat_minor": 1
}
