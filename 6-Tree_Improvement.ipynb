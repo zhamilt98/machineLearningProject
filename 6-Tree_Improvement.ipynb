{
 "cells": [
  {
   "cell_type": "markdown",
   "metadata": {
    "id": "JmPrth23DhvU"
   },
   "source": [
    "##### \n",
    "# Trees & Model Improvement (Workbook)\n",
    "\n",
    "### ITCS 5156\n",
    "### Minwoo \"Jake\" Lee\n",
    "\n",
    "<br/>\n",
    "<font color=\"blue\"><b>\n",
    "\n",
    "NAME: Zachary Hamilton\n",
    "\n",
    "</b> </font>"
   ]
  },
  {
   "cell_type": "markdown",
   "metadata": {
    "id": "07Do2WNSDhva"
   },
   "source": [
    "# Goal\n",
    "\n",
    "The goal of this activity is to pratice decision trees and random forest to classification problem. We also pracctice hyper-parameter optimization and feature selection to further improve the performance of the classifiers. We will use the [Abalone dataset](https://archive.ics.uci.edu/ml/datasets/Abalone) from last week again. Follow the TODO titles and comments to finish the activity! "
   ]
  },
  {
   "cell_type": "markdown",
   "metadata": {
    "id": "WMePGs5KDhva"
   },
   "source": [
    "# Agenda\n",
    "\n",
    "* Data Preparation\n",
    "* Data visualization \n",
    "* Decision Trees\n",
    "* Random Forest\n",
    "* Hyper-Parameter Optimization\n",
    "* Feature Selection\n",
    "  \n",
    "  "
   ]
  },
  {
   "cell_type": "markdown",
   "metadata": {
    "id": "3s1kFtQ9Dhvb"
   },
   "source": [
    "# Tables of TODO's\n",
    "\n",
    "\n",
    "1. [TODO1 (5 points)](#TODO1) \n",
    "2. [TODO2 (5 points)](#TODO2) \n",
    "3. [TODO3 (5 points)](#TODO3) \n",
    "4. [TODO4 (15 points)](#TODO4)  \n",
    "5. [TODO5 (5 points)](#TODO5) \n",
    "6. [TODO6 (10 points)](#TODO6) \n",
    "7. [TODO7 (10 points)](#TODO7) \n",
    "8. [TODO8 (10 points)](#TODO8) \n",
    "9. [TODO9 (5 points)](#TODO9) \n",
    "10. [TODO10 (5 points)](#TODO10) \n",
    "12. [TODO11 (5 points)](#TODO11) \n",
    "13. [TODO12 (10 points)](#TODO12) \n",
    "13. [TODO13 (4 points)](#TODO13) \n",
    "13. [TODO14 (4 points)](#TODO14) \n",
    "18. [Feedback (2 points)](#TODO18) \n",
    "\n",
    "Well, let us start the lab with importing the common libraries first. "
   ]
  },
  {
   "cell_type": "code",
   "execution_count": 3,
   "metadata": {
    "executionInfo": {
     "elapsed": 1873,
     "status": "ok",
     "timestamp": 1616438777620,
     "user": {
      "displayName": "Carter Gray",
      "photoUrl": "",
      "userId": "06611232739127022892"
     },
     "user_tz": 240
    },
    "id": "Fv6ZeEKwDhvb"
   },
   "outputs": [],
   "source": [
    "from copy import deepcopy as copy\n",
    "\n",
    "import numpy as np\n",
    "import pandas as pd\n",
    "import matplotlib.pyplot as plt \n",
    "from mpl_toolkits.mplot3d import Axes3D\n",
    "%matplotlib inline \n",
    "\n",
    "import seaborn as sns"
   ]
  },
  {
   "cell_type": "markdown",
   "metadata": {
    "id": "dO5fqvXhDhvb"
   },
   "source": [
    "# Datasets \n",
    "\n",
    "We are reusing the Abalone data set again. Here are the copy of the description from the last module.\n",
    "\n",
    "### Abalone Dataset \n",
    "\n",
    "The dataset we'll be using this week is the Abalone Dataset (pronounced ab·​a·​lo·​ne). For those that don't know, abalone are marine snails. The original goal of this data is to predict the age of a given abalone. Typically, this is done by counting the number of rings the shell contains (much like tree ring counting). However, counting the rings of an abalone shell is expensive (see description below). Thus, the authors of the data wish to use other features to predict age. \n",
    "\n",
    "**It turns out that predicting age is actually quite hard, so we'll focus on predicting other features such as sex. More on this later...**\n",
    "\n",
    "You can find the detailed description and relevant papers from the [link](https://archive.ics.uci.edu/ml/datasets/Abalone). \n",
    "You can directly download the file from [here](https://archive.ics.uci.edu/ml/machine-learning-databases/abalone/abalone.data).\n",
    "\n",
    "\n",
    "<table>\n",
    "    <tr>\n",
    "        <td><img src=\"https://archive.ics.uci.edu/ml/assets/MLimages/Large174.jpg\" width=200 /></td>\n",
    "    </tr>\n",
    "</table>    \n"
   ]
  },
  {
   "cell_type": "markdown",
   "metadata": {
    "id": "tjQlBykpDhvc"
   },
   "source": [
    "Well, we are going thorugh the routine. For this TODO, you can simply copy and paste from the previous lab. \n",
    "\n",
    "<div id=\"TODO1\"></div>\n",
    "\n",
    "### TODO1 (5 points)\n",
    "1. Using Pandas DataFrame, read the two csv files and store them to `df_air` and `df_abalone` respectively.  \n",
    "2. Print the summary using `describe`. \n",
    "3. Add a plot of your choice for repeating the visualization\n",
    "4. Partition the data as before. \n"
   ]
  },
  {
   "cell_type": "code",
   "execution_count": 4,
   "metadata": {
    "colab": {
     "base_uri": "https://localhost:8080/"
    },
    "executionInfo": {
     "elapsed": 2870,
     "status": "ok",
     "timestamp": 1616438778625,
     "user": {
      "displayName": "Carter Gray",
      "photoUrl": "",
      "userId": "06611232739127022892"
     },
     "user_tz": 240
    },
    "id": "lCVn7i09EIrO",
    "outputId": "936edc83-cf91-4db6-82d1-0db554fde94a"
   },
   "outputs": [
    {
     "name": "stdout",
     "output_type": "stream",
     "text": [
      "  % Total    % Received % Xferd  Average Speed   Time    Time     Time  Current\n",
      "                                 Dload  Upload   Total   Spent    Left  Speed\n",
      "100  187k  100  187k    0     0   359k      0 --:--:-- --:--:-- --:--:--  358k\n"
     ]
    }
   ],
   "source": [
    "!curl -O https://archive.ics.uci.edu/ml/machine-learning-databases/abalone/abalone.data"
   ]
  },
  {
   "cell_type": "code",
   "execution_count": 5,
   "metadata": {
    "colab": {
     "base_uri": "https://localhost:8080/",
     "height": 284
    },
    "executionInfo": {
     "elapsed": 2869,
     "status": "ok",
     "timestamp": 1616438778632,
     "user": {
      "displayName": "Carter Gray",
      "photoUrl": "",
      "userId": "06611232739127022892"
     },
     "user_tz": 240
    },
    "id": "fBqZ1Yu1Dhvc",
    "outputId": "4a5b1069-4905-4fc8-f719-e605524d64b1"
   },
   "outputs": [
    {
     "data": {
      "text/html": [
       "<div>\n",
       "<style scoped>\n",
       "    .dataframe tbody tr th:only-of-type {\n",
       "        vertical-align: middle;\n",
       "    }\n",
       "\n",
       "    .dataframe tbody tr th {\n",
       "        vertical-align: top;\n",
       "    }\n",
       "\n",
       "    .dataframe thead th {\n",
       "        text-align: right;\n",
       "    }\n",
       "</style>\n",
       "<table border=\"1\" class=\"dataframe\">\n",
       "  <thead>\n",
       "    <tr style=\"text-align: right;\">\n",
       "      <th></th>\n",
       "      <th>Sex</th>\n",
       "      <th>Length</th>\n",
       "      <th>Diameter</th>\n",
       "      <th>Height</th>\n",
       "      <th>Whole weight</th>\n",
       "      <th>Shucked weight</th>\n",
       "      <th>Viscera weight</th>\n",
       "      <th>Shell weight</th>\n",
       "      <th>Rings</th>\n",
       "    </tr>\n",
       "  </thead>\n",
       "  <tbody>\n",
       "    <tr>\n",
       "      <th>count</th>\n",
       "      <td>4177.000000</td>\n",
       "      <td>4177.000000</td>\n",
       "      <td>4177.000000</td>\n",
       "      <td>4177.000000</td>\n",
       "      <td>4177.000000</td>\n",
       "      <td>4177.000000</td>\n",
       "      <td>4177.000000</td>\n",
       "      <td>4177.000000</td>\n",
       "      <td>4177.000000</td>\n",
       "    </tr>\n",
       "    <tr>\n",
       "      <th>mean</th>\n",
       "      <td>0.955470</td>\n",
       "      <td>0.523992</td>\n",
       "      <td>0.407881</td>\n",
       "      <td>0.139516</td>\n",
       "      <td>0.828742</td>\n",
       "      <td>0.359367</td>\n",
       "      <td>0.180594</td>\n",
       "      <td>0.238831</td>\n",
       "      <td>9.933684</td>\n",
       "    </tr>\n",
       "    <tr>\n",
       "      <th>std</th>\n",
       "      <td>0.827815</td>\n",
       "      <td>0.120093</td>\n",
       "      <td>0.099240</td>\n",
       "      <td>0.041827</td>\n",
       "      <td>0.490389</td>\n",
       "      <td>0.221963</td>\n",
       "      <td>0.109614</td>\n",
       "      <td>0.139203</td>\n",
       "      <td>3.224169</td>\n",
       "    </tr>\n",
       "    <tr>\n",
       "      <th>min</th>\n",
       "      <td>0.000000</td>\n",
       "      <td>0.075000</td>\n",
       "      <td>0.055000</td>\n",
       "      <td>0.000000</td>\n",
       "      <td>0.002000</td>\n",
       "      <td>0.001000</td>\n",
       "      <td>0.000500</td>\n",
       "      <td>0.001500</td>\n",
       "      <td>1.000000</td>\n",
       "    </tr>\n",
       "    <tr>\n",
       "      <th>25%</th>\n",
       "      <td>0.000000</td>\n",
       "      <td>0.450000</td>\n",
       "      <td>0.350000</td>\n",
       "      <td>0.115000</td>\n",
       "      <td>0.441500</td>\n",
       "      <td>0.186000</td>\n",
       "      <td>0.093500</td>\n",
       "      <td>0.130000</td>\n",
       "      <td>8.000000</td>\n",
       "    </tr>\n",
       "    <tr>\n",
       "      <th>50%</th>\n",
       "      <td>1.000000</td>\n",
       "      <td>0.545000</td>\n",
       "      <td>0.425000</td>\n",
       "      <td>0.140000</td>\n",
       "      <td>0.799500</td>\n",
       "      <td>0.336000</td>\n",
       "      <td>0.171000</td>\n",
       "      <td>0.234000</td>\n",
       "      <td>9.000000</td>\n",
       "    </tr>\n",
       "    <tr>\n",
       "      <th>75%</th>\n",
       "      <td>2.000000</td>\n",
       "      <td>0.615000</td>\n",
       "      <td>0.480000</td>\n",
       "      <td>0.165000</td>\n",
       "      <td>1.153000</td>\n",
       "      <td>0.502000</td>\n",
       "      <td>0.253000</td>\n",
       "      <td>0.329000</td>\n",
       "      <td>11.000000</td>\n",
       "    </tr>\n",
       "    <tr>\n",
       "      <th>max</th>\n",
       "      <td>2.000000</td>\n",
       "      <td>0.815000</td>\n",
       "      <td>0.650000</td>\n",
       "      <td>1.130000</td>\n",
       "      <td>2.825500</td>\n",
       "      <td>1.488000</td>\n",
       "      <td>0.760000</td>\n",
       "      <td>1.005000</td>\n",
       "      <td>29.000000</td>\n",
       "    </tr>\n",
       "  </tbody>\n",
       "</table>\n",
       "</div>"
      ],
      "text/plain": [
       "               Sex       Length  ...  Shell weight        Rings\n",
       "count  4177.000000  4177.000000  ...   4177.000000  4177.000000\n",
       "mean      0.955470     0.523992  ...      0.238831     9.933684\n",
       "std       0.827815     0.120093  ...      0.139203     3.224169\n",
       "min       0.000000     0.075000  ...      0.001500     1.000000\n",
       "25%       0.000000     0.450000  ...      0.130000     8.000000\n",
       "50%       1.000000     0.545000  ...      0.234000     9.000000\n",
       "75%       2.000000     0.615000  ...      0.329000    11.000000\n",
       "max       2.000000     0.815000  ...      1.005000    29.000000\n",
       "\n",
       "[8 rows x 9 columns]"
      ]
     },
     "execution_count": 5,
     "metadata": {
      "tags": []
     },
     "output_type": "execute_result"
    }
   ],
   "source": [
    "\n",
    "# TODO 1.1\n",
    "\n",
    "df_abalone = pd.read_csv('abalone.data',delimiter=',',names=['Sex','Length','Diameter','Height','Whole weight', 'Shucked weight', 'Viscera weight', 'Shell weight', 'Rings'])\n",
    "df_abalone['Sex'] = pd.factorize(df_abalone['Sex'])[0]\n",
    "# TODO 1.2\n",
    "df_abalone.describe()\n",
    "\n"
   ]
  },
  {
   "cell_type": "markdown",
   "metadata": {
    "id": "bO6ZVKWRDhvd"
   },
   "source": [
    "### Visualization (TODO 1.3)\n",
    "Put your own plot and observation here.\n"
   ]
  },
  {
   "cell_type": "code",
   "execution_count": 6,
   "metadata": {
    "colab": {
     "base_uri": "https://localhost:8080/",
     "height": 282
    },
    "executionInfo": {
     "elapsed": 2861,
     "status": "ok",
     "timestamp": 1616438778632,
     "user": {
      "displayName": "Carter Gray",
      "photoUrl": "",
      "userId": "06611232739127022892"
     },
     "user_tz": 240
    },
    "id": "RDqKsQtHDhvd",
    "outputId": "dc9e19b7-3c3d-49c4-a630-6e6d2e885ccf"
   },
   "outputs": [
    {
     "data": {
      "text/plain": [
       "[<matplotlib.lines.Line2D at 0x7feb2dcfd950>]"
      ]
     },
     "execution_count": 6,
     "metadata": {
      "tags": []
     },
     "output_type": "execute_result"
    },
    {
     "data": {
      "image/png": "[encoded data removed]",
      "text/plain": [
       "<Figure size 432x288 with 1 Axes>"
      ]
     },
     "metadata": {
      "needs_background": "light",
      "tags": []
     },
     "output_type": "display_data"
    }
   ],
   "source": [
    "## plot code here\n",
    "plt.plot(df_abalone['Rings'],df_abalone['Shell weight'],'.')\n"
   ]
  },
  {
   "cell_type": "markdown",
   "metadata": {
    "id": "VXqL5kA8FP5h"
   },
   "source": [
    "I picked this graph, rings by shell weight, to see if there is a correlation. I think the graph shows that the more rings the heavier the shell."
   ]
  },
  {
   "cell_type": "markdown",
   "metadata": {
    "id": "80vWmteZDhvd"
   },
   "source": [
    "### Data Partitioning (TODO 1.4)\n",
    "\n",
    "Now, partition data."
   ]
  },
  {
   "cell_type": "code",
   "execution_count": 7,
   "metadata": {
    "colab": {
     "base_uri": "https://localhost:8080/"
    },
    "executionInfo": {
     "elapsed": 2854,
     "status": "ok",
     "timestamp": 1616438778633,
     "user": {
      "displayName": "Carter Gray",
      "photoUrl": "",
      "userId": "06611232739127022892"
     },
     "user_tz": 240
    },
    "id": "ELEkKRhVDhvd",
    "outputId": "873b6389-bca6-4d37-fb91-e2549bf06705"
   },
   "outputs": [
    {
     "name": "stdout",
     "output_type": "stream",
     "text": [
      "Train data shape: (3341, 8)\n",
      "Train target shape: (3341,)\n",
      "Test data shape: (836, 8)\n",
      "Test target shape: (836,)\n"
     ]
    }
   ],
   "source": [
    "from sklearn.model_selection import train_test_split\n",
    "X_train, X_test, t_train, t_test = train_test_split(df_abalone.drop('Sex',axis=1), df_abalone['Sex'],test_size=0.2)\n",
    "\n",
    "print(\"Train data shape: {}\".format(X_train.shape))\n",
    "print(\"Train target shape: {}\".format(t_train.shape))\n",
    "print(\"Test data shape: {}\".format(X_test.shape))\n",
    "print(\"Test target shape: {}\".format(t_test.shape))\n",
    "\n"
   ]
  },
  {
   "cell_type": "markdown",
   "metadata": {
    "id": "0oKQCAZXDhve"
   },
   "source": [
    "# Decision Tree Classification"
   ]
  },
  {
   "cell_type": "markdown",
   "metadata": {
    "id": "kARvzyQ7Dhve"
   },
   "source": [
    "<div id=\"TODO2\"></div>\n",
    "\n",
    "### TODO2 (5 points)\n",
    "\n",
    "1. Create a `DecisionTreeClassifier` instance and store it to `clf`.  \n",
    "2. Train the model and compute the train and test accuracy.\n",
    "\n"
   ]
  },
  {
   "cell_type": "code",
   "execution_count": 8,
   "metadata": {
    "colab": {
     "base_uri": "https://localhost:8080/"
    },
    "executionInfo": {
     "elapsed": 2847,
     "status": "ok",
     "timestamp": 1616438778633,
     "user": {
      "displayName": "Carter Gray",
      "photoUrl": "",
      "userId": "06611232739127022892"
     },
     "user_tz": 240
    },
    "id": "WH9sVq6xDhve",
    "outputId": "422ce3ce-001c-4231-cfc0-627d4c32ce1b"
   },
   "outputs": [
    {
     "name": "stdout",
     "output_type": "stream",
     "text": [
      "Train Accuracy: 1.0, Test Accuracy: 0.4688995215311005\n"
     ]
    }
   ],
   "source": [
    "# TODO Import\n",
    "from sklearn.tree import DecisionTreeClassifier\n",
    "\n",
    "# TODO 1\n",
    "clf = DecisionTreeClassifier(random_state=0)\n",
    "\n",
    "# TODO 2\n",
    "clf.fit(X_train,t_train)\n",
    "test_score = clf.score(X_test,t_test)\n",
    "train_score = clf.score(X_train,t_train)\n",
    "print(\"Train Accuracy: {}, Test Accuracy: {}\".format(train_score, test_score))\n"
   ]
  },
  {
   "cell_type": "markdown",
   "metadata": {
    "id": "Rgy2qyzGDhve"
   },
   "source": [
    "<div id=\"TODO3\"></div>\n",
    "\n",
    "### TODO3 (5 points)\n",
    "\n",
    "Now, let us plot the results and see how much of test misses we have. \n",
    "\n",
    "1. Compute the predictions for test data `X_test`.\n",
    "2. Sort the `t_test` with `argsort` in Numpy.\n",
    "3. Using the sorted index, present the target label (in red line) and predictions (blue dots).\n"
   ]
  },
  {
   "cell_type": "code",
   "execution_count": 9,
   "metadata": {
    "colab": {
     "base_uri": "https://localhost:8080/",
     "height": 282
    },
    "executionInfo": {
     "elapsed": 2842,
     "status": "ok",
     "timestamp": 1616438778635,
     "user": {
      "displayName": "Carter Gray",
      "photoUrl": "",
      "userId": "06611232739127022892"
     },
     "user_tz": 240
    },
    "id": "Y460On29Dhve",
    "outputId": "8d2b5fa3-ee0a-44cc-ca33-836aab244a63"
   },
   "outputs": [
    {
     "data": {
      "text/plain": [
       "[<matplotlib.lines.Line2D at 0x7feb27ef0dd0>]"
      ]
     },
     "execution_count": 9,
     "metadata": {
      "tags": []
     },
     "output_type": "execute_result"
    },
    {
     "data": {
      "image/png": "[encoded data removed]",
      "text/plain": [
       "<Figure size 432x288 with 1 Axes>"
      ]
     },
     "metadata": {
      "needs_background": "light",
      "tags": []
     },
     "output_type": "display_data"
    }
   ],
   "source": [
    "\n",
    "# TODO 1\n",
    "y_test = clf.predict(X_test)\n",
    "\n",
    "# TODO 2\n",
    "T_test = np.argsort(t_test.to_numpy())\n",
    "\n",
    "# TODO 3\n",
    "plt.plot(y_test,'bo')\n",
    "plt.plot(T_test,'r')\n"
   ]
  },
  {
   "cell_type": "markdown",
   "metadata": {
    "id": "qaf_rq5pDhvf"
   },
   "source": [
    "## Classification Evaluation\n",
    "\n",
    "Let us prepare a report for classification evaluation.\n",
    "\n",
    "\n",
    "<div id=\"TODO9\"></div>\n",
    "\n",
    "### TODO4 (15 points)\n",
    "\n",
    "Referring the previous lab exercise, complete `evaluation_report` function. \n",
    "\n",
    "\n",
    "\n",
    "1. Fill in the function, following the instructions: \n",
    "  1. Compute the train/test accuracy and print \n",
    "  1. Print the sklearn `matthews_corrcoef` or MCC using the test data.\n",
    "  1. Print sklearn `classificaiton_report` metrics using the test results.\n",
    "  1. Plot the sklearn `confusion_matrix` with the sklearn `ConfusionMatrixDisplay` class using the test data.\n",
    "2. Run the function to evaluate the decision tree that we just trained. \n",
    "3. From the metrics, how do you evaluate the performance. Did you find any problem of the model? "
   ]
  },
  {
   "cell_type": "code",
   "execution_count": 10,
   "metadata": {
    "executionInfo": {
     "elapsed": 3108,
     "status": "ok",
     "timestamp": 1616438778904,
     "user": {
      "displayName": "Carter Gray",
      "photoUrl": "",
      "userId": "06611232739127022892"
     },
     "user_tz": 240
    },
    "id": "QzWZO8HlDhvf"
   },
   "outputs": [],
   "source": [
    "# TODO: import the necessary modules\n",
    "from sklearn.metrics import matthews_corrcoef, confusion_matrix, classification_report, ConfusionMatrixDisplay\n",
    "\n",
    "\"\"\"\n",
    "   evalu8ation report\n",
    "       create a classification evaluation using\n",
    "          accuracy, MCC, classification_report, confusion matrix, and ROC Curve (AUC as well)\n",
    "          \n",
    "       parameters\n",
    "       -----------\n",
    "       model      trained classifier instance\n",
    "       data       tuple of (X_train, X_test, t_train, t_test)\n",
    "\"\"\"\n",
    "def evaluation_report(model, data):\n",
    "    print(\"{}\\n===========================\\n\".format(clf.__class__.__name__))\n",
    "    \n",
    "    X_train, X_test, t_train, t_test = data\n",
    "    \n",
    "    #### \n",
    "    # TODO Print train & test accuracy\n",
    "    \n",
    "    y_test = model.predict(X_test)\n",
    "    test_score = model.score(X_test,t_test)\n",
    "    train_score = model.score(X_train,t_train)\n",
    "    print(\"Train Accuracy: {}, Test Accuracy: {}\".format(train_score, test_score))\n",
    "    \n",
    "    \n",
    "    # TODO  print MCC score\n",
    "    print(matthews_corrcoef(t_test,y_test))\n",
    "    \n",
    "    # TODO  print classification report\n",
    "    print(classification_report(t_test,y_test))\n",
    "    \n",
    "    # TODO plot confusion matrix\n",
    "    cm = confusion_matrix(t_test, y_test, labels=clf.classes_)\n",
    "    disp = ConfusionMatrixDisplay(confusion_matrix=cm, display_labels=clf.classes_)\n",
    "    \n",
    "    disp.plot() \n",
    "    \n",
    "    \n",
    "    plt.title(clf.__class__.__name__)\n"
   ]
  },
  {
   "cell_type": "code",
   "execution_count": 11,
   "metadata": {
    "colab": {
     "base_uri": "https://localhost:8080/",
     "height": 547
    },
    "executionInfo": {
     "elapsed": 3102,
     "status": "ok",
     "timestamp": 1616438778905,
     "user": {
      "displayName": "Carter Gray",
      "photoUrl": "",
      "userId": "06611232739127022892"
     },
     "user_tz": 240
    },
    "id": "gnDmr14FDhvf",
    "outputId": "55abe8d9-4a44-42ac-a440-d8a5cb271102"
   },
   "outputs": [
    {
     "name": "stdout",
     "output_type": "stream",
     "text": [
      "DecisionTreeClassifier\n",
      "===========================\n",
      "\n",
      "Train Accuracy: 0.8892547141574378, Test Accuracy: 0.9114832535885168\n",
      "0.867167659409978\n",
      "              precision    recall  f1-score   support\n",
      "\n",
      "           0       0.92      0.90      0.91       302\n",
      "           1       0.86      0.90      0.88       249\n",
      "           2       0.95      0.93      0.94       285\n",
      "\n",
      "    accuracy                           0.91       836\n",
      "   macro avg       0.91      0.91      0.91       836\n",
      "weighted avg       0.91      0.91      0.91       836\n",
      "\n"
     ]
    },
    {
     "data": {
      "image/png": "[encoded data removed]",
      "text/plain": [
       "<Figure size 432x288 with 2 Axes>"
      ]
     },
     "metadata": {
      "needs_background": "light",
      "tags": []
     },
     "output_type": "display_data"
    }
   ],
   "source": [
    "# TODO 4.2\n",
    "\n",
    "evaluation_report(clf,train_test_split(df_abalone.drop('Sex',axis=1), df_abalone['Sex'],test_size=0.2))"
   ]
  },
  {
   "cell_type": "markdown",
   "metadata": {
    "id": "jeGwAKKhDhvf"
   },
   "source": [
    "`TODO4.2` From the metrics, how do you evaluate the performance. Did you find any problem of the model? "
   ]
  },
  {
   "cell_type": "markdown",
   "metadata": {
    "id": "dGXDscCFDhvf"
   },
   "source": [
    "`ANSWER`\n",
    "\n",
    "The test accuracy is higher than the training accuracy and both are high. This means there are no problems."
   ]
  },
  {
   "cell_type": "markdown",
   "metadata": {
    "id": "_2gxQUqxDhvg"
   },
   "source": [
    "## Reviewing the tree\n",
    "\n",
    "When the tree is small, eye observation is possible for us better understanding of the model/data. \n",
    "Let us plot the tree and see what we can learn from it. \n",
    "\n"
   ]
  },
  {
   "cell_type": "markdown",
   "metadata": {
    "id": "5hMFET7vDhvg"
   },
   "source": [
    "\n",
    "<div id=\"TODO5\"></div>\n",
    "\n",
    "### TODO5 (5 points)\n",
    "\n",
    "1. Create a tree plot using `plot_tree`. \n",
    "\n",
    "<font color=\"red\"><b>WARNING: THIS CODE CAN TAKE A LONG TIME TO RUN! </b></font>   \n"
   ]
  },
  {
   "cell_type": "code",
   "execution_count": 12,
   "metadata": {
    "colab": {
     "base_uri": "https://localhost:8080/",
     "height": 248
    },
    "executionInfo": {
     "elapsed": 56535,
     "status": "ok",
     "timestamp": 1616438832346,
     "user": {
      "displayName": "Carter Gray",
      "photoUrl": "",
      "userId": "06611232739127022892"
     },
     "user_tz": 240
    },
    "id": "4ZfAU7GxDhvg",
    "outputId": "d8ed3bc2-9a52-430a-9fbd-76f05be180a8"
   },
   "outputs": [
    {
     "data": {
      "image/png": "[encoded data removed]",
      "text/plain": [
       "<Figure size 432x288 with 1 Axes>"
      ]
     },
     "metadata": {
      "needs_background": "light",
      "tags": []
     },
     "output_type": "display_data"
    }
   ],
   "source": [
    "# TODO: Import\n",
    "from sklearn import tree\n",
    "\n",
    "# TODO: plot tree\n",
    "tree.plot_tree(clf);\n"
   ]
  },
  {
   "cell_type": "markdown",
   "metadata": {
    "id": "LtyrZmn4Dhvh"
   },
   "source": [
    "Whew~! The tree is huge! Is there any one who can read this? \n",
    "Can you plot this a bit readable by limiting the depth? \n",
    "\n",
    "<div id=\"TODO6\"></div>\n",
    "\n",
    "### TODO6 (10 points)\n",
    "\n",
    "1. Redraw the tree plot with `max_depth=3`. \n",
    "2. What do you see from the tree plot? "
   ]
  },
  {
   "cell_type": "code",
   "execution_count": 13,
   "metadata": {
    "colab": {
     "base_uri": "https://localhost:8080/",
     "height": 575
    },
    "executionInfo": {
     "elapsed": 57606,
     "status": "ok",
     "timestamp": 1616438833426,
     "user": {
      "displayName": "Carter Gray",
      "photoUrl": "",
      "userId": "06611232739127022892"
     },
     "user_tz": 240
    },
    "id": "FWWsLFsNDhvh",
    "outputId": "d7ededa0-09d5-4882-8c4c-69d8d73e0654"
   },
   "outputs": [
    {
     "data": {
      "image/png": "[encoded data removed]",
      "text/plain": [
       "<Figure size 2160x720 with 1 Axes>"
      ]
     },
     "metadata": {
      "needs_background": "light",
      "tags": []
     },
     "output_type": "display_data"
    }
   ],
   "source": [
    "\n",
    "plt.figure(figsize=(30,10))\n",
    "# TODO 1\n",
    "tree.plot_tree(clf,max_depth=3);"
   ]
  },
  {
   "cell_type": "markdown",
   "metadata": {
    "id": "Ru4rwJVdDhvh"
   },
   "source": [
    "`TODO6.2` From the tree, what were you able to observe? Is it telling you anything about the performance? Can you read it from the tree? "
   ]
  },
  {
   "cell_type": "markdown",
   "metadata": {
    "id": "WAfxD9GrDhvh"
   },
   "source": [
    "`ANSWER`\n",
    "\n",
    "The values and puriti score tells how well the model is classifying. Although it is the terminal, we can observe low gini scores and large mixture of samples from the values. \n",
    "This re-verifies the poor performance metric above. "
   ]
  },
  {
   "cell_type": "markdown",
   "metadata": {
    "id": "0tK0UNrKDhvh"
   },
   "source": [
    "### Pruning the Tree\n",
    "\n",
    "Now, let us try pruning the tree to improve the trainig speedn and model performance. \n",
    "\n",
    "<div id=\"TODO7\"></div>\n",
    "\n",
    "### TODO7 (10 points)\n",
    "\n",
    "1. Create another decision tree instance with `max_depth=4` and store it to `pruned_tree`. \n",
    "2. plot the `pruned_tree`\n",
    "3. run `evaluation_report` to measure the performance.\n",
    "4. State your observation of the performance. "
   ]
  },
  {
   "cell_type": "code",
   "execution_count": 14,
   "metadata": {
    "colab": {
     "base_uri": "https://localhost:8080/",
     "height": 248
    },
    "executionInfo": {
     "elapsed": 58546,
     "status": "ok",
     "timestamp": 1616438834375,
     "user": {
      "displayName": "Carter Gray",
      "photoUrl": "",
      "userId": "06611232739127022892"
     },
     "user_tz": 240
    },
    "id": "5b6e5BHvDhvi",
    "outputId": "5a5c133f-0208-4ab6-fb4c-d925e3d96a82"
   },
   "outputs": [
    {
     "data": {
      "image/png": "[encoded data removed]",
      "text/plain": [
       "<Figure size 432x288 with 1 Axes>"
      ]
     },
     "metadata": {
      "needs_background": "light",
      "tags": []
     },
     "output_type": "display_data"
    }
   ],
   "source": [
    "# TODO 1\n",
    "pruned_tree = DecisionTreeClassifier(random_state=0,max_depth=4)\n",
    "pruned_tree.fit(X_train,t_train)\n",
    "# TODO 2\n",
    "tree.plot_tree(pruned_tree);"
   ]
  },
  {
   "cell_type": "code",
   "execution_count": 15,
   "metadata": {
    "colab": {
     "base_uri": "https://localhost:8080/",
     "height": 547
    },
    "executionInfo": {
     "elapsed": 58539,
     "status": "ok",
     "timestamp": 1616438834376,
     "user": {
      "displayName": "Carter Gray",
      "photoUrl": "",
      "userId": "06611232739127022892"
     },
     "user_tz": 240
    },
    "id": "Ph2ICEvvDhvi",
    "outputId": "e2d97dcb-5d90-4d69-faad-46ac738772eb"
   },
   "outputs": [
    {
     "name": "stdout",
     "output_type": "stream",
     "text": [
      "DecisionTreeClassifier\n",
      "===========================\n",
      "\n",
      "Train Accuracy: 0.5698892547141574, Test Accuracy: 0.5574162679425837\n",
      "0.335096122820623\n",
      "              precision    recall  f1-score   support\n",
      "\n",
      "           0       0.46      0.54      0.50       286\n",
      "           1       0.44      0.26      0.33       254\n",
      "           2       0.70      0.83      0.76       296\n",
      "\n",
      "    accuracy                           0.56       836\n",
      "   macro avg       0.53      0.54      0.53       836\n",
      "weighted avg       0.54      0.56      0.54       836\n",
      "\n"
     ]
    },
    {
     "data": {
      "image/png": "[encoded data removed]",
      "text/plain": [
       "<Figure size 432x288 with 2 Axes>"
      ]
     },
     "metadata": {
      "needs_background": "light",
      "tags": []
     },
     "output_type": "display_data"
    }
   ],
   "source": [
    "# TODO 3\n",
    "evaluation_report(pruned_tree,train_test_split(df_abalone.drop('Sex',axis=1), df_abalone['Sex'],test_size=0.2))"
   ]
  },
  {
   "cell_type": "markdown",
   "metadata": {
    "id": "JXTsCk_2Dhvi"
   },
   "source": [
    "`TODO7.4` State your observation of the pruned tree. Is it better than before?"
   ]
  },
  {
   "cell_type": "markdown",
   "metadata": {
    "id": "B9bbGrQHDhvi"
   },
   "source": [
    "`ANSWER`\n",
    "no the pruned tree gives worst train and test accuracy."
   ]
  },
  {
   "cell_type": "markdown",
   "metadata": {
    "id": "zOv6bVTADhvi"
   },
   "source": [
    "\n",
    "# Random Forest\n",
    "\n",
    "Now, it is time to use multiple trees. Using the random forest, let us examine if we can improve the performance. \n",
    "Before moving forward, we need to decide how many trees to form a forest. \n",
    "\n",
    "<div id=\"TODO8\"></div>\n",
    "\n",
    "\n",
    "### TODO8 (10 points)\n",
    "\n",
    "Referring the lecture slides, plot the train, test, and out-of-bag performance against the number of estimators. \n",
    "1. import `RandomForestClassifier`. \n",
    "2. Create a `RandomForestClassifier` instance with `warm_start` and `oob_score` to be `True`. Then, store it to `rf`.\n",
    "3. In a loop, \n",
    "  1. train the model with different number of estimators, \n",
    "  2. compute train, test and oob scores and append them to `errors` dictionary using the corresponding key (i.e., `train`, `test`, or `oob`). \n",
    "4. Plot three curves for the scores.\n",
    "5. How many estimators do you think best? Explain why.  \n",
    "\n",
    "**HINT: you can copy and paste the codes from the lecture slides to start this TODO.**"
   ]
  },
  {
   "cell_type": "code",
   "execution_count": 16,
   "metadata": {
    "colab": {
     "base_uri": "https://localhost:8080/",
     "height": 565
    },
    "executionInfo": {
     "elapsed": 70790,
     "status": "ok",
     "timestamp": 1616438846635,
     "user": {
      "displayName": "Carter Gray",
      "photoUrl": "",
      "userId": "06611232739127022892"
     },
     "user_tz": 240
    },
    "id": "gXcEj7ZqDhvi",
    "outputId": "696f5e8e-4f54-4fd4-bd0c-9446f7c8853f"
   },
   "outputs": [
    {
     "name": "stderr",
     "output_type": "stream",
     "text": [
      "/usr/local/lib/python3.7/dist-packages/sklearn/ensemble/_forest.py:541: UserWarning: Some inputs do not have OOB scores. This probably means too few trees were used to compute any reliable oob estimates.\n",
      "  warn(\"Some inputs do not have OOB scores. \"\n",
      "/usr/local/lib/python3.7/dist-packages/sklearn/ensemble/_forest.py:546: RuntimeWarning: invalid value encountered in true_divide\n",
      "  predictions[k].sum(axis=1)[:, np.newaxis])\n",
      "/usr/local/lib/python3.7/dist-packages/sklearn/ensemble/_forest.py:541: UserWarning: Some inputs do not have OOB scores. This probably means too few trees were used to compute any reliable oob estimates.\n",
      "  warn(\"Some inputs do not have OOB scores. \"\n",
      "/usr/local/lib/python3.7/dist-packages/sklearn/ensemble/_forest.py:546: RuntimeWarning: invalid value encountered in true_divide\n",
      "  predictions[k].sum(axis=1)[:, np.newaxis])\n",
      "/usr/local/lib/python3.7/dist-packages/sklearn/ensemble/_forest.py:541: UserWarning: Some inputs do not have OOB scores. This probably means too few trees were used to compute any reliable oob estimates.\n",
      "  warn(\"Some inputs do not have OOB scores. \"\n",
      "/usr/local/lib/python3.7/dist-packages/sklearn/ensemble/_forest.py:546: RuntimeWarning: invalid value encountered in true_divide\n",
      "  predictions[k].sum(axis=1)[:, np.newaxis])\n",
      "/usr/local/lib/python3.7/dist-packages/sklearn/ensemble/_forest.py:541: UserWarning: Some inputs do not have OOB scores. This probably means too few trees were used to compute any reliable oob estimates.\n",
      "  warn(\"Some inputs do not have OOB scores. \"\n",
      "/usr/local/lib/python3.7/dist-packages/sklearn/ensemble/_forest.py:546: RuntimeWarning: invalid value encountered in true_divide\n",
      "  predictions[k].sum(axis=1)[:, np.newaxis])\n"
     ]
    },
    {
     "data": {
      "text/plain": [
       "Text(0.5, 0, '# estimators')"
      ]
     },
     "execution_count": 16,
     "metadata": {
      "tags": []
     },
     "output_type": "execute_result"
    },
    {
     "data": {
      "image/png": "[encoded data removed]",
      "text/plain": [
       "<Figure size 432x288 with 1 Axes>"
      ]
     },
     "metadata": {
      "needs_background": "light",
      "tags": []
     },
     "output_type": "display_data"
    }
   ],
   "source": [
    "# TODO 1\n",
    "from sklearn.ensemble import RandomForestClassifier\n",
    "\n",
    "# TODO 2\n",
    "rf = RandomForestClassifier(warm_start=True,oob_score=True)\n",
    "\n",
    "# Range of `n_estimators` values to explore.\n",
    "min_estimators = 5\n",
    "max_estimators = 250\n",
    "rng = range(min_estimators, max_estimators, 5)\n",
    "\n",
    "errors = {'train': [], 'test': [], 'oob': []}\n",
    "\n",
    "for n_est in rng:\n",
    "    # TODO 3.A\n",
    "    rf.set_params(n_estimators=n_est)  # set the number of trees\n",
    "    rf.fit(X_train, t_train)\n",
    "    \n",
    "    \n",
    "    # TODO 3.B\n",
    "    train_score = rf.score(X_train, t_train)\n",
    "    test_score = rf.score(X_test, t_test)\n",
    "    \n",
    "    errors['train'].append(train_score)\n",
    "    errors['test'].append(test_score)\n",
    "    errors['oob'].append(rf.oob_score_)\n",
    "    \n",
    "    \n",
    "    \n",
    "# TODO 4\n",
    "plt.plot(rng, errors['train'], label=\"train\")\n",
    "plt.plot(rng, errors['test'], label=\"test\")\n",
    "plt.plot(rng, errors['oob'], label=\"oob\")\n",
    "\n",
    "\n",
    "plt.xlim(min_estimators, max_estimators)\n",
    "plt.legend()\n",
    "plt.xlabel(\"# estimators\")    \n"
   ]
  },
  {
   "cell_type": "markdown",
   "metadata": {
    "id": "ixEwAmpdDhvj"
   },
   "source": [
    "`TODO8.5` How many estimators do you think best? Explain why.  \n"
   ]
  },
  {
   "cell_type": "markdown",
   "metadata": {
    "id": "EQaJTjN9Dhvj"
   },
   "source": [
    "`ANSWER` The graph is highest at 149, so that should be the best amount of estimators\n"
   ]
  },
  {
   "cell_type": "markdown",
   "metadata": {
    "id": "2h_StVrPDhvj"
   },
   "source": [
    "<div id=\"TODO9\"></div>\n",
    "\n",
    "### TODO9 (5 points)\n",
    "\n",
    "1. Using the best number of estimators, create a random forest instance and store it to `rf`.  \n",
    "2. Train the model and produce an evaluation report by using `evaluation_report`.\n",
    "\n"
   ]
  },
  {
   "cell_type": "code",
   "execution_count": 17,
   "metadata": {
    "colab": {
     "base_uri": "https://localhost:8080/",
     "height": 547
    },
    "executionInfo": {
     "elapsed": 72131,
     "status": "ok",
     "timestamp": 1616438847983,
     "user": {
      "displayName": "Carter Gray",
      "photoUrl": "",
      "userId": "06611232739127022892"
     },
     "user_tz": 240
    },
    "id": "1ebiRTnXDhvj",
    "outputId": "2641ddbf-df7b-4d4a-ea0b-d15c8d7fec26"
   },
   "outputs": [
    {
     "name": "stdout",
     "output_type": "stream",
     "text": [
      "DecisionTreeClassifier\n",
      "===========================\n",
      "\n",
      "Train Accuracy: 0.914396887159533, Test Accuracy: 0.895933014354067\n",
      "0.8430012019004546\n",
      "              precision    recall  f1-score   support\n",
      "\n",
      "           0       0.89      0.88      0.88       324\n",
      "           1       0.88      0.84      0.86       243\n",
      "           2       0.92      0.97      0.94       269\n",
      "\n",
      "    accuracy                           0.90       836\n",
      "   macro avg       0.90      0.90      0.89       836\n",
      "weighted avg       0.90      0.90      0.90       836\n",
      "\n"
     ]
    },
    {
     "data": {
      "image/png": "[encoded data removed]",
      "text/plain": [
       "<Figure size 432x288 with 2 Axes>"
      ]
     },
     "metadata": {
      "needs_background": "light",
      "tags": []
     },
     "output_type": "display_data"
    }
   ],
   "source": [
    "\n",
    "# TODO 1\n",
    "rf = RandomForestClassifier(n_estimators=149) # set the number of trees\n",
    "rf.fit(X_train, t_train)\n",
    "\n",
    "# TODO 2\n",
    "evaluation_report(rf,train_test_split(df_abalone.drop('Sex',axis=1), df_abalone['Sex'],test_size=0.2))\n"
   ]
  },
  {
   "cell_type": "markdown",
   "metadata": {
    "id": "FErGkFMlDhvj"
   },
   "source": [
    "## Extremely Randomized Trees\n",
    "\n",
    "Well, it seems very hard to achieve further improvement. Would additional randomization help to better generalize the model? \n",
    "Let us try extremely randomized trees. \n",
    "\n",
    "<div id=\"TODO10\"></div>\n",
    "\n",
    "### TODO10 (5 points)\n",
    "\n",
    "1. Using the same number of estimators, create a `ExtraTreesClassifier` instance and store it to `erf`.  \n",
    "2. Train the model and produce an evaluation report by using `evaluation_report`.\n",
    "\n"
   ]
  },
  {
   "cell_type": "code",
   "execution_count": 18,
   "metadata": {
    "colab": {
     "base_uri": "https://localhost:8080/",
     "height": 547
    },
    "executionInfo": {
     "elapsed": 73373,
     "status": "ok",
     "timestamp": 1616438849233,
     "user": {
      "displayName": "Carter Gray",
      "photoUrl": "",
      "userId": "06611232739127022892"
     },
     "user_tz": 240
    },
    "id": "U_Y9NjgSDhvj",
    "outputId": "dae844e5-24fc-4e9c-d0a7-b7d606cd86b0"
   },
   "outputs": [
    {
     "name": "stdout",
     "output_type": "stream",
     "text": [
      "DecisionTreeClassifier\n",
      "===========================\n",
      "\n",
      "Train Accuracy: 0.9066147859922179, Test Accuracy: 0.9055023923444976\n",
      "0.8587146961506622\n",
      "              precision    recall  f1-score   support\n",
      "\n",
      "           0       0.87      0.90      0.88       288\n",
      "           1       0.92      0.86      0.89       273\n",
      "           2       0.93      0.96      0.94       275\n",
      "\n",
      "    accuracy                           0.91       836\n",
      "   macro avg       0.91      0.91      0.91       836\n",
      "weighted avg       0.91      0.91      0.91       836\n",
      "\n"
     ]
    },
    {
     "data": {
      "image/png": "[encoded data removed]",
      "text/plain": [
       "<Figure size 432x288 with 2 Axes>"
      ]
     },
     "metadata": {
      "needs_background": "light",
      "tags": []
     },
     "output_type": "display_data"
    }
   ],
   "source": [
    "# enter your codes here\n",
    "from sklearn.ensemble import ExtraTreesClassifier\n",
    "erf = ExtraTreesClassifier(n_estimators=149, random_state=0)  # set the number of trees\n",
    "erf.fit(X_train, t_train)\n",
    "evaluation_report(erf,train_test_split(df_abalone.drop('Sex',axis=1), df_abalone['Sex'],test_size=0.2))\n"
   ]
  },
  {
   "cell_type": "markdown",
   "metadata": {
    "id": "_VspgaAjDhvj"
   },
   "source": [
    "# Hyper-Parameter Search\n",
    "\n",
    "Models that we have learned so far have many different hyper-parameters that we had to initialize with. \n",
    "The choice of hyper-parameters is critical to the performance of the model. \n",
    "As we seen above, the pruning options in decistion trees or the number of trees in random forest are the examples of hyper-parameters. \n",
    "Then, how can we find a good hyper-parameters? There are many different ways to optimize them. Let us practice some of them here. \n",
    "\n",
    "\n",
    "<div id=\"TODO11\"></div>\n",
    "\n",
    "\n",
    "### TODO11 (5 points)\n",
    "\n",
    "Let us play with support vector machines (SVM) since it has many options that we needto pick. \n",
    "SVM has reguarlization parameter `C`, which is inversely proportional, thus the lower is `C`, the higher is the panalty. \n",
    "Also, youn pick different kernel such as `linear`, `poly`, `rbf`, and `sigmoid`. \n",
    "You can select `degree` in case you select polynomial kernel, but let us not assume the degree to be default 3 as it is to save our computation. \n",
    "\n",
    "The following guidance instructs you with `GridSearchCV` but you can choose either `GridSearchCV` or `RandomizeSearchCV`. \n",
    "\n",
    "1. Import `GridSearchCV` and `SVC`. \n",
    "2. Create `GridSearchCV` instance and store it to `clf` by passing `SVC` instance `svc`. \n",
    "3. Run the hyper-parameter search for the four possible kernel choices (`linear`, `poly`, `rbf`, and `sigmoid`) and the four values for regularization parameter (`0.01`, `0.1`, `1`. `10`). You will need to define `parameters` in TODO2.\n",
    "4. Print out the best hyper-parameters, both the regularization parameter `C` and the kernel. \n",
    "5. Print the best score. \n",
    "\n",
    "<font color=\"red\"><b>WARNING: THIS CODE CAN TAKE A LONG TIME TO RUN! </b></font>   \n"
   ]
  },
  {
   "cell_type": "code",
   "execution_count": 19,
   "metadata": {
    "colab": {
     "base_uri": "https://localhost:8080/"
    },
    "executionInfo": {
     "elapsed": 114560,
     "status": "ok",
     "timestamp": 1616438890428,
     "user": {
      "displayName": "Carter Gray",
      "photoUrl": "",
      "userId": "06611232739127022892"
     },
     "user_tz": 240
    },
    "id": "Pa8gIeOTDhvk",
    "outputId": "1a80f6a9-b45b-45fb-cf96-8d30cfc062a3"
   },
   "outputs": [
    {
     "name": "stdout",
     "output_type": "stream",
     "text": [
      "[{'C': 10, 'kernel': 'linear'}]\n",
      "0.5549269174655175\n"
     ]
    }
   ],
   "source": [
    "# TODO 1\n",
    "from sklearn.model_selection import GridSearchCV\n",
    "from sklearn import svm\n",
    "\n",
    "# TODO 2\n",
    "parameters = {'kernel':('linear', 'poly','rbf','sigmoid'), 'C':[0.01, 0.1, 1, 10]}\n",
    "svc = svm.SVC()\n",
    "clf = GridSearchCV(svc,parameters)\n",
    "\n",
    "\n",
    "# TODO 3\n",
    "clf.fit(X_train,t_train)\n",
    "\n",
    "# TODO 4 & 5\n",
    "arr = np.array(clf.cv_results_['mean_test_score'])\n",
    "top = np.array(sorted(arr))[len(arr)-1]\n",
    "\n",
    "index = np.where(arr == top)\n",
    "\n",
    "name = np.array(clf.cv_results_['params'])[index]\n",
    "print(name)\n",
    "print(top)"
   ]
  },
  {
   "cell_type": "markdown",
   "metadata": {
    "id": "c9lEPXBqDhvk"
   },
   "source": [
    "\n",
    "<div id=\"TODO12\"></div>\n",
    "\n",
    "\n",
    "### TODO12 (10 points)\n",
    "\n",
    "Now, let us plot the results and observe what hyper-parameters work best for SVM. \n",
    "`cv_results_` attribute is the dictionary that contains the grid search cross validation results. Here follows the how you access the values such as tested parameters `params`, mean and standard deviation of test scores for each hyper-parameter combination (grid). \n",
    "\n",
    "1. Read and run the following cells to understand how you access them. \n",
    "2. Create a plot that draws a line curve (use option 'o-') that compare the performance between each grid.\n",
    "3. Use `fill_between` to plot the shade area for the variance of the test errors\n",
    "  1. You need both `mean_test_score` and `std_test_score` for this.\n",
    "4. What do you observe from the figure? Any particular pattern do you see?\n"
   ]
  },
  {
   "cell_type": "code",
   "execution_count": 20,
   "metadata": {
    "colab": {
     "base_uri": "https://localhost:8080/"
    },
    "executionInfo": {
     "elapsed": 114554,
     "status": "ok",
     "timestamp": 1616438890429,
     "user": {
      "displayName": "Carter Gray",
      "photoUrl": "",
      "userId": "06611232739127022892"
     },
     "user_tz": 240
    },
    "id": "FXtD2fUJDhvk",
    "outputId": "d4ca4866-eb26-4b99-8036-889bbc1aa8d7"
   },
   "outputs": [
    {
     "data": {
      "text/plain": [
       "[{'C': 0.01, 'kernel': 'linear'},\n",
       " {'C': 0.01, 'kernel': 'poly'},\n",
       " {'C': 0.01, 'kernel': 'rbf'},\n",
       " {'C': 0.01, 'kernel': 'sigmoid'},\n",
       " {'C': 0.1, 'kernel': 'linear'},\n",
       " {'C': 0.1, 'kernel': 'poly'},\n",
       " {'C': 0.1, 'kernel': 'rbf'},\n",
       " {'C': 0.1, 'kernel': 'sigmoid'},\n",
       " {'C': 1, 'kernel': 'linear'},\n",
       " {'C': 1, 'kernel': 'poly'},\n",
       " {'C': 1, 'kernel': 'rbf'},\n",
       " {'C': 1, 'kernel': 'sigmoid'},\n",
       " {'C': 10, 'kernel': 'linear'},\n",
       " {'C': 10, 'kernel': 'poly'},\n",
       " {'C': 10, 'kernel': 'rbf'},\n",
       " {'C': 10, 'kernel': 'sigmoid'}]"
      ]
     },
     "execution_count": 20,
     "metadata": {
      "tags": []
     },
     "output_type": "execute_result"
    }
   ],
   "source": [
    "clf.cv_results_['params']"
   ]
  },
  {
   "cell_type": "code",
   "execution_count": 21,
   "metadata": {
    "colab": {
     "base_uri": "https://localhost:8080/"
    },
    "executionInfo": {
     "elapsed": 114549,
     "status": "ok",
     "timestamp": 1616438890430,
     "user": {
      "displayName": "Carter Gray",
      "photoUrl": "",
      "userId": "06611232739127022892"
     },
     "user_tz": 240
    },
    "id": "Mc6681ZfDhvk",
    "outputId": "0862907e-d3a7-4ad5-8007-13c1f5ebf983"
   },
   "outputs": [
    {
     "data": {
      "text/plain": [
       "['C0.01_linear',\n",
       " 'C0.01_poly',\n",
       " 'C0.01_rbf',\n",
       " 'C0.01_sigmoid',\n",
       " 'C0.1_linear',\n",
       " 'C0.1_poly',\n",
       " 'C0.1_rbf',\n",
       " 'C0.1_sigmoid',\n",
       " 'C1_linear',\n",
       " 'C1_poly',\n",
       " 'C1_rbf',\n",
       " 'C1_sigmoid',\n",
       " 'C10_linear',\n",
       " 'C10_poly',\n",
       " 'C10_rbf',\n",
       " 'C10_sigmoid']"
      ]
     },
     "execution_count": 21,
     "metadata": {
      "tags": []
     },
     "output_type": "execute_result"
    }
   ],
   "source": [
    "param_names = [\"C{}_{}\".format(p['C'], p['kernel']) for p in clf.cv_results_['params']]\n",
    "param_names"
   ]
  },
  {
   "cell_type": "code",
   "execution_count": 22,
   "metadata": {
    "colab": {
     "base_uri": "https://localhost:8080/"
    },
    "executionInfo": {
     "elapsed": 114543,
     "status": "ok",
     "timestamp": 1616438890430,
     "user": {
      "displayName": "Carter Gray",
      "photoUrl": "",
      "userId": "06611232739127022892"
     },
     "user_tz": 240
    },
    "id": "n15rXbAqDhvl",
    "outputId": "080aaa5b-2c69-4240-ec9f-df70c9b2bd38"
   },
   "outputs": [
    {
     "data": {
      "text/plain": [
       "array([0.52978706, 0.48518926, 0.5088348 , 0.36156834, 0.53187974,\n",
       "       0.5079348 , 0.51272656, 0.22656973, 0.54624876, 0.53038452,\n",
       "       0.53158257, 0.20562597, 0.55492692, 0.53517136, 0.53696822,\n",
       "       0.20323121])"
      ]
     },
     "execution_count": 22,
     "metadata": {
      "tags": []
     },
     "output_type": "execute_result"
    }
   ],
   "source": [
    "clf.cv_results_['mean_test_score']\n"
   ]
  },
  {
   "cell_type": "code",
   "execution_count": 23,
   "metadata": {
    "colab": {
     "base_uri": "https://localhost:8080/"
    },
    "executionInfo": {
     "elapsed": 114537,
     "status": "ok",
     "timestamp": 1616438890431,
     "user": {
      "displayName": "Carter Gray",
      "photoUrl": "",
      "userId": "06611232739127022892"
     },
     "user_tz": 240
    },
    "id": "AxokICVZDhvl",
    "outputId": "cc75f830-cfe0-456b-8902-b8bd009cc739"
   },
   "outputs": [
    {
     "data": {
      "text/plain": [
       "array([0.01408265, 0.00886792, 0.01525202, 0.00067458, 0.01144197,\n",
       "       0.0095567 , 0.019239  , 0.0278834 , 0.01163175, 0.0129317 ,\n",
       "       0.01117311, 0.01693863, 0.01033772, 0.00842263, 0.00544619,\n",
       "       0.01892993])"
      ]
     },
     "execution_count": 23,
     "metadata": {
      "tags": []
     },
     "output_type": "execute_result"
    }
   ],
   "source": [
    "clf.cv_results_['std_test_score']\n"
   ]
  },
  {
   "cell_type": "code",
   "execution_count": 24,
   "metadata": {
    "colab": {
     "base_uri": "https://localhost:8080/",
     "height": 593
    },
    "executionInfo": {
     "elapsed": 114995,
     "status": "ok",
     "timestamp": 1616438890896,
     "user": {
      "displayName": "Carter Gray",
      "photoUrl": "",
      "userId": "06611232739127022892"
     },
     "user_tz": 240
    },
    "id": "sMSAEBcpDhvl",
    "outputId": "ded77371-3097-4b89-99f6-85129a3832f5"
   },
   "outputs": [
    {
     "data": {
      "text/plain": [
       "Text(0.5, 1.0, 'linear')"
      ]
     },
     "execution_count": 24,
     "metadata": {
      "tags": []
     },
     "output_type": "execute_result"
    },
    {
     "data": {
      "image/png": "[encoded data removed]",
      "text/plain": [
       "<Figure size 720x576 with 1 Axes>"
      ]
     },
     "metadata": {
      "needs_background": "light",
      "tags": []
     },
     "output_type": "display_data"
    }
   ],
   "source": [
    "\n",
    "plt.figure(figsize=(10,8))\n",
    "rng = range(len(param_names))\n",
    "\n",
    "# TODO 3\n",
    "\n",
    "\n",
    "plt.plot(np.array(clf.cv_results_['mean_test_score']),'ro-')\n",
    "# TODO 2\n",
    "plt.fill_between(rng,clf.cv_results_['mean_test_score'] - clf.cv_results_['std_test_score'],clf.cv_results_['mean_test_score'] + clf.cv_results_['std_test_score'])\n",
    "\n",
    "# xtick, x and y label and title\n",
    "plt.xticks(rng, param_names, rotation=90)\n",
    "plt.xlabel(\"hyper-parameters\")\n",
    "plt.ylabel(\"CV accuracy\")\n",
    "\n",
    "# TODO add a title showing the best hyper-parameters\n",
    "\n",
    "name = np.array2string(np.array(clf.cv_results_['param_kernel'])[index]).replace(\"'\",'').replace('[','').replace(']','')\n",
    "\n",
    "plt.title(name)\n"
   ]
  },
  {
   "cell_type": "markdown",
   "metadata": {
    "id": "FvE-J4lIDhvl"
   },
   "source": [
    "`TODO12.4` What do you observe from the figure? Any particular pattern do you see?"
   ]
  },
  {
   "cell_type": "markdown",
   "metadata": {
    "id": "GxhKr5zgDhvl"
   },
   "source": [
    "`ANSWER` Sigmonid is very bad compared to the other hyper-parameters"
   ]
  },
  {
   "cell_type": "markdown",
   "metadata": {
    "id": "aA830Q84Dhvl"
   },
   "source": [
    "# Feature Selection\n",
    "\n",
    "We have been using all the eight features to make a prediction. Well, is there any feature not necessary? \n",
    "Or is there any one actually distrubing the classification? \n",
    "It is reasonable to play with feature selection to selectively find a good set of features. \n",
    "\n",
    "\n",
    "<div id=\"TODO13\"></div>\n",
    "\n",
    "\n",
    "### TODO13 (4 points)\n",
    "\n",
    "Let us try a naive feature selection method first.\n",
    "\n",
    "1. Using `VarianceThreshold`, select features whose variance is higher than 0.1. \n",
    "2. How many features are selected? What are they? \n",
    "  * HINT: use `get_support()` to figure out selected features. \n",
    " "
   ]
  },
  {
   "cell_type": "code",
   "execution_count": 27,
   "metadata": {
    "colab": {
     "base_uri": "https://localhost:8080/"
    },
    "executionInfo": {
     "elapsed": 671,
     "status": "ok",
     "timestamp": 1616439453471,
     "user": {
      "displayName": "Carter Gray",
      "photoUrl": "",
      "userId": "06611232739127022892"
     },
     "user_tz": 240
    },
    "id": "IIAiwKG8Dhvm",
    "outputId": "27679b4d-b36b-4f01-a376-6d4a61d1585e"
   },
   "outputs": [
    {
     "data": {
      "text/plain": [
       "array([ True, False, False, False,  True, False, False, False,  True])"
      ]
     },
     "execution_count": 27,
     "metadata": {
      "tags": []
     },
     "output_type": "execute_result"
    }
   ],
   "source": [
    "# TODO 1\n",
    "from sklearn.feature_selection import VarianceThreshold\n",
    "\n",
    "selector = VarianceThreshold(threshold=0.1)\n",
    "selector.fit_transform(df_abalone)\n",
    "selector.get_support()\n",
    "\n"
   ]
  },
  {
   "cell_type": "markdown",
   "metadata": {
    "id": "VeG_oOEuDhvm"
   },
   "source": [
    "`TODO13.2` How many features are selected? What are they? "
   ]
  },
  {
   "cell_type": "markdown",
   "metadata": {
    "id": "PtrU7b2qDhvm"
   },
   "source": [
    "`ANSWER` 3; sex, Whole weight, rings"
   ]
  },
  {
   "cell_type": "markdown",
   "metadata": {
    "id": "DcV_hPCmDhvm"
   },
   "source": [
    "\n",
    "<div id=\"TODO14\"></div>\n",
    "\n",
    "\n",
    "### TODO14 (4 points)\n",
    "\n",
    "Let us learning algorithm involed to get what features are most important for predictions. \n",
    "\n",
    "1. Use `SequentialFeatureSelector` to select two features. We will use random forest `rf` that we previous decleared above. \n",
    "2. What features are selected? Is it same from the TODO13? "
   ]
  },
  {
   "cell_type": "code",
   "execution_count": 28,
   "metadata": {
    "colab": {
     "base_uri": "https://localhost:8080/"
    },
    "executionInfo": {
     "elapsed": 35189,
     "status": "ok",
     "timestamp": 1616439490613,
     "user": {
      "displayName": "Carter Gray",
      "photoUrl": "",
      "userId": "06611232739127022892"
     },
     "user_tz": 240
    },
    "id": "fs3q78TuDhvm",
    "outputId": "029e37cc-801d-4280-9eb6-3cf7b6dda36a"
   },
   "outputs": [
    {
     "data": {
      "text/plain": [
       "array([False, False,  True, False, False, False, False,  True])"
      ]
     },
     "execution_count": 28,
     "metadata": {
      "tags": []
     },
     "output_type": "execute_result"
    }
   ],
   "source": [
    "from sklearn.feature_selection import SequentialFeatureSelector\n",
    "sfs = SequentialFeatureSelector(rf, n_features_to_select=2)\n",
    "sfs.fit(X_train, t_train)\n",
    "sfs.get_support()\n",
    "\n"
   ]
  },
  {
   "cell_type": "markdown",
   "metadata": {
    "id": "KgbNNFIIDhvm"
   },
   "source": [
    "`TODO14.2`  What features are selected? Is it same from the TODO13? "
   ]
  },
  {
   "cell_type": "markdown",
   "metadata": {
    "id": "2VxksP4gDhvm"
   },
   "source": [
    "`ANSWER`Diameter and rings, rings is the same from 13"
   ]
  },
  {
   "cell_type": "markdown",
   "metadata": {
    "id": "ZxnYou8BDhvn"
   },
   "source": [
    "<div id=\"TODO18\"></div>\n",
    "\n",
    "## Feedback (2 point)\n",
    "\n",
    "Did you enjoy the lab? \n",
    "\n",
    "Please take time to answer the following feedback qustions to help us further improve these labs! Your feedback is crucial to making these labs more useful!\n",
    "    \n"
   ]
  },
  {
   "cell_type": "markdown",
   "metadata": {
    "id": "hqx46JMMDhvn"
   },
   "source": [
    "* How do you rate the overall experience in this lab? (5 likert scale. i.e., 1 - poor ... 5 - amazing)  \n",
    "Why do you think so? What was most/least useful?\n",
    "\n"
   ]
  },
  {
   "cell_type": "markdown",
   "metadata": {
    "id": "uTyp5sZrDhvn"
   },
   "source": [
    "`ANSWER`5, This lab showed a really neat way to compare models."
   ]
  },
  {
   "cell_type": "markdown",
   "metadata": {
    "id": "93yt4mE8Dhvn"
   },
   "source": [
    "* What did you find difficult about the lab? Were there any TODOs that were unclear? If so, what specfically did not make sense about it?\n",
    "\n"
   ]
  },
  {
   "cell_type": "markdown",
   "metadata": {
    "id": "nbbKf8FKDhvn"
   },
   "source": [
    "`ANSWER`nothing"
   ]
  },
  {
   "cell_type": "markdown",
   "metadata": {
    "id": "iiYbNJzVDhvn"
   },
   "source": [
    "* Which concepts, if any, within the lab do you feel could use more explanation?"
   ]
  },
  {
   "cell_type": "markdown",
   "metadata": {
    "id": "2iYtmyAPDhvn"
   },
   "source": [
    "`ANSWER`none"
   ]
  }
 ],
 "metadata": {
  "colab": {
   "collapsed_sections": [],
   "name": "6-Tree_Improvement.ipynb",
   "provenance": []
  },
  "kernelspec": {
   "display_name": "Python 3",
   "language": "python",
   "name": "python3"
  },
  "language_info": {
   "codemirror_mode": {
    "name": "ipython",
    "version": 3
   },
   "file_extension": ".py",
   "mimetype": "text/x-python",
   "name": "python",
   "nbconvert_exporter": "python",
   "pygments_lexer": "ipython3",
   "version": "3.8.3"
  }
 },
 "nbformat": 4,
 "nbformat_minor": 1
}
